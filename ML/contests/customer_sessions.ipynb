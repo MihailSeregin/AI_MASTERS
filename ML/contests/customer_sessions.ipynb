{
 "cells": [
  {
   "cell_type": "markdown",
   "id": "ea84b13f",
   "metadata": {},
   "source": [
    "\n",
    "# Автор: Серегин Михаил"
   ]
  },
  {
   "cell_type": "markdown",
   "id": "5ab69e0e",
   "metadata": {},
   "source": [
    "**Отчет о проделанной работе**\n",
    "\n",
    "**Признаки:**\n",
    "\n",
    "*a) Признаки из t1_webstat, уникальыне для каждого действия*\n",
    "\n",
    "Если order_id смержить с данными сессий, отсортировать по времени, то окажется следующее: \n",
    "1. Если есть разрыв в pageview_number, то вероятно, звонка не было, а это действие просто взято из t1_webstat. Поэтому добавим признак, характеризующий перерыв между соседними действиями, если был разрыв, иначе - NaN.\n",
    "2. Судя по всему, page_type=1 отвечает за корзину, а page_type=3 скорее за ленту. Поэтому признак, отражающий тип предыдущей страницы важен.\n",
    "3. Если действие последнее, то вероятнее, что это был звонок, особенно после page_type=1. Добавим признак, означающий время до последнего действия. \n",
    "\n",
    "*b)Признаки, полученные агрегацией по сессиям.*\n",
    "\n",
    "\n",
    "\n",
    "*c) Таргет кодировка категориальных признаков (parent_id, root_id, utm_source, utm_medium).*\n",
    "\n",
    "**Модель**\n",
    "\n",
    "Использовался catboost с подбором параметров на сетке (параметры: количество деревьев, глубина, lr).\n",
    "\n",
    "\n",
    "\n",
    "\n",
    "\n",
    "**Из интересного**\n",
    "\n",
    "Второй бейзлайн можно было пробить с двумя признаками.\n"
   ]
  },
  {
   "cell_type": "code",
   "execution_count": null,
   "id": "3bf1423a",
   "metadata": {},
   "outputs": [],
   "source": []
  },
  {
   "cell_type": "code",
   "execution_count": 1,
   "id": "6a467506",
   "metadata": {},
   "outputs": [],
   "source": [
    "import pandas as pd\n",
    "import numpy as np\n",
    "from sklearn.model_selection import train_test_split\n",
    "from catboost import CatBoostClassifier\n",
    "from sklearn.metrics import roc_auc_score\n",
    "import matplotlib.pyplot as plt\n",
    "import time"
   ]
  },
  {
   "cell_type": "code",
   "execution_count": 2,
   "id": "eb2e8016",
   "metadata": {},
   "outputs": [],
   "source": [
    "t1_webstat = pd.read_csv(\"t1_webstat.csv\")\n",
    "\n",
    "train = pd.read_csv(\"train.csv\")\n",
    "\n",
    "test = pd.read_csv(\"test.csv\")\n",
    "\n",
    "train[\"create_time\"]=  pd.to_datetime(train.create_time)\n",
    "train[\"model_create_time\"] = pd.to_datetime(train.model_create_time)\n",
    "test[\"create_time\"]=  pd.to_datetime(test.create_time)\n",
    "test[\"model_create_time\"] = pd.to_datetime(test.model_create_time)\n",
    "t1_webstat[\"date_time\"] = pd.to_datetime(t1_webstat.date_time)"
   ]
  },
  {
   "cell_type": "markdown",
   "id": "58a4d87b",
   "metadata": {
    "heading_collapsed": true
   },
   "source": [
    "# Блок извлечения данных из t1webstat.\n"
   ]
  },
  {
   "cell_type": "code",
   "execution_count": 57,
   "id": "16ade896",
   "metadata": {
    "hidden": true
   },
   "outputs": [],
   "source": [
    "def surrounded(df):\n",
    "    \"\"\"\n",
    "    gap is a parameter\n",
    "    return 1 if True\n",
    "    \"\"\"\n",
    "\n",
    "    ind = list(df.page_type==0).index(True)\n",
    "\n",
    "    ln = len(df.iloc[ind-1:ind+2])\n",
    "    if ln>2:\n",
    "        return 1\n",
    "    else:\n",
    "        return 0\n",
    "\n",
    "    return \n",
    "\n",
    "def last(df):\n",
    "    \"\"\"return 1 if True\"\"\"\n",
    "    ind = list(df.page_type==0).index(True)\n",
    "\n",
    "    if ind==0:\n",
    "        return df.date_time.values[0] - df.date_time.values[1]\n",
    "    else:\n",
    "        return 0\n",
    "\n",
    "\n",
    "def type_pred_page(df):\n",
    "\n",
    "    ind = list(df.page_type==0).index(True)\n",
    "\n",
    "    if len(df) == ind+1: # the last\n",
    "        return np.NaN\n",
    "    else:\n",
    "        return df.at[ind+1,\"page_type\"]\n",
    "\n",
    "def gap_pages(df):\n",
    "    \"\"\"\n",
    "    если выполнено первое условие, то выяснить, есть ли разрыв в страницах. Приходим сюда только если выполнено условие\n",
    "    if True, вероятно, что звонка не было. \n",
    "    \"\"\"\n",
    "    \"\"\"return 1 if True\"\"\"\n",
    "\n",
    "\n",
    "    ind = list(df.page_type==0).index(True)\n",
    "\n",
    "    cur_df = df.iloc[ind-1:ind+2].copy()\n",
    "    cur_df.drop(0,axis=\"index\",inplace=True)\n",
    "    vals=cur_df[\"pageview_number\"].values\n",
    "    if vals[0]-1==vals[1]:\n",
    "        return 0\n",
    "    else:\n",
    "        return cur_df[\"date_time\"].values[0] - cur_df[\"date_time\"].values[1]\n",
    "\n",
    "def start_of_time_seri(df):\n",
    "    \"\"\" if True, return is the distance to the nearest report\"\"\"\n",
    "    ind = list(df.page_type==0).index(True)\n",
    "    if ind+1==len(df):\n",
    "        return 1\n",
    "    else:\n",
    "        return 0\n",
    "\n",
    "\n",
    "\n",
    "def agr(df_,order_id):\n",
    "    \"\"\"\n",
    "    На вход: таблица со строкой, для которой нужно распарсить\n",
    "    На выход: таблица-строка со значениями, скопированными и + признаки\n",
    "    \"\"\"\n",
    "\n",
    "    df = df_.copy()\n",
    "    sur = surrounded(df) # 1 or 0\n",
    "\n",
    "    is_last = last(df)\n",
    "    type_pred = type_pred_page(df)\n",
    "\n",
    "    if sur:\n",
    "        gap_number_pages = gap_pages(df)\n",
    "    else:\n",
    "        gap_number_pages = np.NaN\n",
    "\n",
    "    is_start = start_of_time_seri(df)\n",
    "\n",
    "\n",
    "\n",
    "    ind = list(df.page_type==0).index(True)\n",
    "    if is_start:\n",
    "        row = df.iloc[ind]\n",
    "    else:\n",
    "\n",
    "        row = df.iloc[ind+1]\n",
    "\n",
    "    lst = list(row.values)\n",
    "    lst.append(sur)\n",
    "    lst.append(is_last)\n",
    "    lst.append(type_pred)\n",
    "    lst.append(gap_number_pages)\n",
    "    lst.append(is_start)\n",
    "    lst.append(order_id)\n",
    "\n",
    "    return lst"
   ]
  },
  {
   "cell_type": "code",
   "execution_count": 58,
   "id": "54cc90fb",
   "metadata": {
    "hidden": true
   },
   "outputs": [],
   "source": [
    "import tqdm\n",
    "def from_t1webstat_extract_data(dataframe):\n",
    "    \n",
    "    \n",
    "\n",
    "    extract_df = pd.DataFrame([],columns=['sessionkey_id', 'date_time', 'page_type', 'pageview_number',\n",
    "           'pageview_duration_sec', 'category_id', 'model_id', 'good_id', 'price',\n",
    "           'product_in_sale',\"surrounded\",\"is_last\",\"type_pred\",\"gap_number_pages\",\"is_start\",\"order_id\"])\n",
    "    \n",
    "    \n",
    "    for session in tqdm.tqdm(dataframe.sessionkey_id.unique()):\n",
    "        row_train = dataframe[dataframe.sessionkey_id==session].copy()\n",
    "        logs =t1_webstat[t1_webstat.sessionkey_id==session].sort_values(by=\"date_time\",ascending=False).copy()\n",
    "        \n",
    "        if len(logs)==0:\n",
    "            continue\n",
    "\n",
    "\n",
    "\n",
    "\n",
    "        for i in range(len(row_train)):\n",
    "            logs.index=range(len(logs))\n",
    "            necessary_data = row_train[[\"create_time\",\"sessionkey_id\",\"order_id\"]].iloc[i].values\n",
    "            new_data = [0 for i in range(10)]\n",
    "            new_data[0] = necessary_data[1]\n",
    "            new_data[1] = necessary_data[0]\n",
    "            logs.loc[-1] = new_data\n",
    "            logs.index = logs.index + 1\n",
    "            logs = logs.sort_values(by=\"date_time\",ascending=False)\n",
    "\n",
    "            ## для каждой строки отдельно запускаем функцию, которая возвращает строку (которую затем конкатенируем)\n",
    "\n",
    "            extract_lst = agr(logs, order_id=necessary_data[2])\n",
    "\n",
    "            extract_df.loc[-1] = extract_lst\n",
    "            extract_df.index = extract_df.index+1\n",
    "\n",
    "\n",
    "            logs.drop(0,axis=\"index\",inplace=True)\n",
    "            \n",
    "            \n",
    "    return extract_df"
   ]
  },
  {
   "cell_type": "code",
   "execution_count": 59,
   "id": "90f0a1d6",
   "metadata": {
    "hidden": true
   },
   "outputs": [
    {
     "name": "stderr",
     "output_type": "stream",
     "text": [
      "100%|██████████| 16019/16019 [02:49<00:00, 94.47it/s] \n"
     ]
    }
   ],
   "source": [
    "extract_df_test = from_t1webstat_extract_data(test)\n",
    "extract_df_test.columns = [i+\"_extract\" for i in extract_df_test.columns]"
   ]
  },
  {
   "cell_type": "code",
   "execution_count": 60,
   "id": "3107fef2",
   "metadata": {
    "hidden": true
   },
   "outputs": [
    {
     "name": "stderr",
     "output_type": "stream",
     "text": [
      "100%|██████████| 96803/96803 [23:58<00:00, 67.30it/s] \n"
     ]
    }
   ],
   "source": [
    "extract_df_train = from_t1webstat_extract_data(train)\n",
    "extract_df_train.columns = [i+\"_extract\" for i in extract_df_train.columns]"
   ]
  },
  {
   "cell_type": "code",
   "execution_count": 65,
   "id": "1a99d375",
   "metadata": {
    "hidden": true
   },
   "outputs": [],
   "source": [
    "## save results\n",
    "\n",
    "extract_df_test.to_csv(\"extract_test2.csv\",index=0)\n",
    "extract_df_train.to_csv(\"extract_train2.csv\",index=0)"
   ]
  },
  {
   "cell_type": "code",
   "execution_count": 3,
   "id": "529d234f",
   "metadata": {
    "hidden": true
   },
   "outputs": [],
   "source": [
    "# loading\n",
    "train_extract = pd.read_csv(\"extract_train2.csv\")\n",
    "test_extract = pd.read_csv(\"extract_test2.csv\")\n",
    "\n",
    "\n",
    "\n",
    "merged_train = pd.merge(\n",
    "    train,\n",
    "    train_extract,\n",
    "    how=\"left\",\n",
    "    left_on=\"order_id\",\n",
    "    right_on=\"order_id_extract\",\n",
    "    left_index=False,\n",
    "    right_index=False,\n",
    "    sort=True,\n",
    "    copy=True,\n",
    "    indicator=False,\n",
    "    validate=None,\n",
    ")\n",
    "\n",
    "merged_test = pd.merge(\n",
    "    test,\n",
    "    test_extract,\n",
    "    how=\"left\",\n",
    "    left_on=\"order_id\",\n",
    "    right_on=\"order_id_extract\",\n",
    "    left_index=False,\n",
    "    right_index=False,\n",
    "    sort=True,\n",
    "    copy=True,\n",
    "    indicator=False,\n",
    "    validate=None,\n",
    ")"
   ]
  },
  {
   "cell_type": "markdown",
   "id": "7e4e6ca1",
   "metadata": {
    "heading_collapsed": true
   },
   "source": [
    "# Мержим признаки  "
   ]
  },
  {
   "cell_type": "code",
   "execution_count": 4,
   "id": "c1776097",
   "metadata": {
    "hidden": true
   },
   "outputs": [],
   "source": [
    "session_agg = pd.read_csv(\"aggregation_karm.csv\")"
   ]
  },
  {
   "cell_type": "code",
   "execution_count": 5,
   "id": "2076d022",
   "metadata": {
    "hidden": true
   },
   "outputs": [],
   "source": [
    "merged_train = merged_train.merge(session_agg, how='left', on='sessionkey_id', sort=False)\n",
    "merged_test = merged_test.merge(session_agg, how='left', on='sessionkey_id', sort=False)"
   ]
  },
  {
   "cell_type": "markdown",
   "id": "f4929093",
   "metadata": {
    "heading_collapsed": true
   },
   "source": [
    "# Формируем признак \"разрыва\". Далее в данных называется seconds.\n",
    "\n",
    "1. Если гэп в данных был, значит признак равен времени разрыва. \n",
    "2. Если публикация действия последняя во временном ряду, указывается время до предыдущего\n",
    "3. Иначе NaN"
   ]
  },
  {
   "cell_type": "code",
   "execution_count": 6,
   "id": "dd5af295",
   "metadata": {
    "hidden": true
   },
   "outputs": [],
   "source": [
    "def find_s(data):\n",
    "    try:\n",
    "        arr=data.split()\n",
    "        d=int(arr[0])*24*60*60 \n",
    "        h,m,s = arr[2].split(\":\")\n",
    "        final = d+int(h)*60*60 + int(m)*60+float(s)\n",
    "    except:\n",
    "        return 0\n",
    "    return final\n",
    "\n",
    "last_lst=merged_train[\"is_last_extract\"].values\n",
    "gap_lst=merged_train[\"gap_number_pages_extract\"].values\n",
    "\n",
    "\n",
    "\n",
    "new_lst = []\n",
    "for i,g in enumerate(gap_lst):\n",
    "    if type(g)==float:\n",
    "        new_lst.append(last_lst[i])\n",
    "    else:\n",
    "        new_lst.append(g)\n",
    "\n",
    "\n",
    "\n",
    "for i in range(len(new_lst)):\n",
    "    if (new_lst[i]=='0')or(new_lst[i]==0):\n",
    "        new_lst[i] = 0\n",
    "        continue\n",
    "    if type(new_lst[i])==float:\n",
    "        new_lst[i]=0\n",
    "    new_lst[i] = find_s(new_lst[i])\n",
    "    \n",
    "    "
   ]
  },
  {
   "cell_type": "code",
   "execution_count": 7,
   "id": "b8c2c781",
   "metadata": {
    "hidden": true
   },
   "outputs": [],
   "source": [
    "merged_train[\"seconds\"] = np.array(new_lst)"
   ]
  },
  {
   "cell_type": "code",
   "execution_count": 8,
   "id": "669699b3",
   "metadata": {
    "hidden": true
   },
   "outputs": [],
   "source": [
    "last_lst=merged_test[\"is_last_extract\"].values\n",
    "gap_lst=merged_test[\"gap_number_pages_extract\"].values\n",
    "\n",
    "\n",
    "\n",
    "new_lst = []\n",
    "for i,g in enumerate(gap_lst):\n",
    "    if type(g)==float:\n",
    "        new_lst.append(last_lst[i])\n",
    "    else:\n",
    "        new_lst.append(g)\n",
    "\n",
    "\n",
    "for i in range(len(new_lst)):\n",
    "    if (new_lst[i]=='0')or(new_lst[i]==0):\n",
    "        new_lst[i] = 0\n",
    "        continue\n",
    "    if type(new_lst[i])==float:\n",
    "        new_lst[i]=0\n",
    "    new_lst[i] = find_s(new_lst[i])\n",
    "    \n",
    "    "
   ]
  },
  {
   "cell_type": "code",
   "execution_count": 9,
   "id": "850fc7c1",
   "metadata": {
    "hidden": true
   },
   "outputs": [],
   "source": [
    "merged_test[\"seconds\"] = np.array(new_lst)"
   ]
  },
  {
   "cell_type": "markdown",
   "id": "a1ecd013",
   "metadata": {
    "heading_collapsed": true
   },
   "source": [
    "# Tuning"
   ]
  },
  {
   "cell_type": "code",
   "execution_count": 21,
   "id": "89cca57f",
   "metadata": {
    "hidden": true
   },
   "outputs": [],
   "source": [
    "## features that are to be dropped (for train)\n",
    "drop_lst=[\"is_callcenter\",\"model_create_time\",\"create_time\",'date_time_extract',\n",
    "                     'order_id',\n",
    "'order_id_extract','sessionkey_id_extract','sessionkey_id_extract','good_id','good_id_extract',\n",
    "                                                \"root_id\",'model_id'\n",
    "                                                                 ,\"price_extract\",'category_id','parent_id','model_id_extract'\n",
    "          ,'goods_qty', 'category_id_extract',\"pics_qty\",\"description_length\",\n",
    "         'is_moderated',]\n",
    "\n",
    "# for test\n",
    "lst_test=list(set(merged_test.columns).intersection(set(drop_lst)))"
   ]
  },
  {
   "cell_type": "code",
   "execution_count": 333,
   "id": "65b5ee0c",
   "metadata": {
    "hidden": true
   },
   "outputs": [
    {
     "name": "stderr",
     "output_type": "stream",
     "text": [
      "  2%|▏         | 3/160 [00:05<04:37,  1.77s/it]"
     ]
    },
    {
     "name": "stdout",
     "output_type": "stream",
     "text": [
      "0.9730439425325184 (200, 6, 0.11188888888888888)\n"
     ]
    },
    {
     "name": "stderr",
     "output_type": "stream",
     "text": [
      "\r\n",
      "  2%|▎         | 4/160 [00:07<04:34,  1.76s/it]"
     ]
    },
    {
     "name": "stdout",
     "output_type": "stream",
     "text": [
      "0.9734511432511211 (200, 6, 0.16733333333333333)\n"
     ]
    },
    {
     "name": "stderr",
     "output_type": "stream",
     "text": [
      "  9%|▉         | 14/160 [00:25<04:37,  1.90s/it]"
     ]
    },
    {
     "name": "stdout",
     "output_type": "stream",
     "text": [
      "0.9734686422310243 (200, 7, 0.16733333333333333)\n"
     ]
    },
    {
     "name": "stderr",
     "output_type": "stream",
     "text": [
      " 34%|███▍      | 54/160 [01:43<03:43,  2.11s/it]"
     ]
    },
    {
     "name": "stdout",
     "output_type": "stream",
     "text": [
      "0.9734715080847973 (220, 7, 0.16733333333333333)\n"
     ]
    },
    {
     "name": "stderr",
     "output_type": "stream",
     "text": [
      " 40%|████      | 64/160 [02:04<03:13,  2.02s/it]"
     ]
    },
    {
     "name": "stdout",
     "output_type": "stream",
     "text": [
      "0.9735019385901525 (230, 6, 0.16733333333333333)\n"
     ]
    },
    {
     "name": "stderr",
     "output_type": "stream",
     "text": [
      " 52%|█████▎    | 84/160 [02:47<02:40,  2.12s/it]"
     ]
    },
    {
     "name": "stdout",
     "output_type": "stream",
     "text": [
      "0.9735274945852954 (240, 6, 0.16733333333333333)\n"
     ]
    },
    {
     "name": "stderr",
     "output_type": "stream",
     "text": [
      "100%|██████████| 160/160 [05:52<00:00,  2.21s/it]\n"
     ]
    }
   ],
   "source": [
    "import random\n",
    "from itertools import product\n",
    "best_score = 0.973\n",
    "for n_est, d, lr in tqdm.tqdm(list(product(range(200,280,10),[6,7],np.linspace(0.001,0.5,10)))):\n",
    "    X_train, X_test, y_train, y_test = train_test_split(merged_train.drop(drop_lst, axis=1)[[\n",
    "    'pageview_duration_sec_extract',\"seconds\",\"ends_nan\",\"sec_diff\",\n",
    "    'product_in_sale_extract','utm_medium',\"pageview_number_extract\",\"cat_id_ratio\",\n",
    "    \"root_id_ratio\",\"utm_source_id_ratio\",'last_page_type',]],\n",
    "                                                            merged_train.is_callcenter,shuffle=True,test_size=0.25,random_state=0)\n",
    "\n",
    "\n",
    "\n",
    "    cat = CatBoostClassifier(verbose=False,n_estimators=n_est,depth=d,learning_rate=lr)\n",
    "    cat.fit(X_train, y_train)\n",
    "    pred=cat.predict_proba(X_test)\n",
    "    score=roc_auc_score(y_test,pred[:,1])\n",
    "    if score>best_score:\n",
    "        best_score=score\n",
    "        print(score,f\"{n_est,d,lr}\")"
   ]
  },
  {
   "cell_type": "markdown",
   "id": "94423cee",
   "metadata": {},
   "source": [
    "# Prediction"
   ]
  },
  {
   "cell_type": "code",
   "execution_count": null,
   "id": "5bb76dfa",
   "metadata": {},
   "outputs": [],
   "source": [
    "[[\n",
    "    'pageview_duration_sec_extract',\"seconds\",\"ends_nan\",\"sec_diff\",\n",
    "    'product_in_sale_extract','utm_medium',\"pageview_number_extract\",\"cat_id_ratio\",\n",
    "    \"root_id_ratio\",\"utm_source_id_ratio\",'last_page_type',]]"
   ]
  },
  {
   "cell_type": "code",
   "execution_count": 35,
   "id": "336df9a5",
   "metadata": {},
   "outputs": [
    {
     "data": {
      "text/plain": [
       "0.9733596310387265"
      ]
     },
     "execution_count": 35,
     "metadata": {},
     "output_type": "execute_result"
    }
   ],
   "source": [
    "X_train, X_test, y_train, y_test = train_test_split(merged_train.drop(drop_lst, axis=1)[[\n",
    "    'pageview_duration_sec_extract',\"seconds\",\"ends_nan\",\"sec_diff\",\n",
    "    'product_in_sale_extract','utm_medium',\"pageview_number_extract\",\"cat_id_ratio\",\n",
    "    \"root_id_ratio\",\"utm_source_id_ratio\",'last_page_type',]],\n",
    "                                                        merged_train.is_callcenter,shuffle=True,test_size=0.25,random_state=0)\n",
    "\n",
    "\n",
    "\n",
    "cat = CatBoostClassifier(verbose=False,n_estimators=240,depth=6,learning_rate=0.1673333)\n",
    "cat.fit(X_train, y_train)\n",
    "pred=cat.predict_proba(X_test)\n",
    "roc_auc_score(y_test,pred[:,1])"
   ]
  },
  {
   "cell_type": "code",
   "execution_count": 36,
   "id": "a6e2927e",
   "metadata": {},
   "outputs": [],
   "source": [
    "pred_test=cat.predict_proba(merged_test.drop(lst_test,axis=1)[[\n",
    "    'pageview_duration_sec_extract',\"seconds\",\"ends_nan\",\"sec_diff\",\n",
    "    'product_in_sale_extract','utm_medium',\"pageview_number_extract\",\"cat_id_ratio\",\n",
    "    \"root_id_ratio\",\"utm_source_id_ratio\",'utm_medium_id_ratio','last_page_type',]])"
   ]
  },
  {
   "cell_type": "code",
   "execution_count": 37,
   "id": "0e44d352",
   "metadata": {},
   "outputs": [],
   "source": [
    "merged_test[\"is_callcenter\"] = pred_test[:,1]"
   ]
  },
  {
   "cell_type": "code",
   "execution_count": 38,
   "id": "63eca34b",
   "metadata": {},
   "outputs": [],
   "source": [
    "merged_test[[\"order_id\",\"is_callcenter\"]].to_csv(\"submit_kagglelast0.csv\",index=0)"
   ]
  },
  {
   "cell_type": "code",
   "execution_count": 39,
   "id": "775d4361",
   "metadata": {},
   "outputs": [],
   "source": [
    "inds=np.argsort(cat.feature_importances_)\n",
    "vals=np.sort(cat.feature_importances_)\n",
    "names=np.array(cat.feature_names_)[inds]"
   ]
  },
  {
   "cell_type": "code",
   "execution_count": 40,
   "id": "d9123ae9",
   "metadata": {},
   "outputs": [
    {
     "data": {
      "text/plain": [
       "<AxesSubplot:>"
      ]
     },
     "execution_count": 40,
     "metadata": {},
     "output_type": "execute_result"
    },
    {
     "data": {
      "image/png": "[encoded data removed]",
      "text/plain": [
       "<Figure size 432x288 with 1 Axes>"
      ]
     },
     "metadata": {
      "needs_background": "light"
     },
     "output_type": "display_data"
    }
   ],
   "source": [
    "feat_importances = pd.Series(vals, index=names)\n",
    "feat_importances.nlargest(20).plot(kind='barh')"
   ]
  },
  {
   "cell_type": "markdown",
   "id": "44132c32",
   "metadata": {
    "heading_collapsed": true
   },
   "source": [
    "# Target encoding of categorial features."
   ]
  },
  {
   "cell_type": "markdown",
   "id": "f3b46bdf",
   "metadata": {
    "heading_collapsed": true,
    "hidden": true
   },
   "source": [
    "## category_id"
   ]
  },
  {
   "cell_type": "code",
   "execution_count": 10,
   "id": "3860127d",
   "metadata": {
    "hidden": true
   },
   "outputs": [],
   "source": [
    "seri1=merged_train.groupby(by=\"category_id\").agg(\n",
    "    summ=('is_callcenter', lambda x: np.sum(x)),\n",
    "    countt=(\"is_callcenter\",lambda x: len(x)))\n",
    "\n",
    "seri1[\"ratio\"] = seri1[\"summ\"]/seri1[\"countt\"]\n",
    "\n",
    "ratio_cat_id = seri1[seri1.countt>50].sort_values(by=\"ratio\")\n",
    "\n",
    "cat_id_inds = ratio_cat_id.index\n",
    "\n",
    "ratio_cat_id.countt.sum()\n",
    "\n",
    "const = merged_train[\"is_callcenter\"].sum() / merged_train[\"is_callcenter\"].count()\n",
    "\n",
    "def fill_category_id(data):\n",
    "    if data not in cat_id_inds:\n",
    "        return const\n",
    "    elif data in cat_id_inds:\n",
    "        return ratio_cat_id.loc[data][\"ratio\"]\n",
    "    \n",
    "    \n",
    "merged_train[\"cat_id_ratio\"] = merged_train[\"category_id\"].apply(fill_category_id)\n",
    "merged_test[\"cat_id_ratio\"] = merged_test[\"category_id\"].apply(fill_category_id)\n",
    "\n"
   ]
  },
  {
   "cell_type": "markdown",
   "id": "16e085eb",
   "metadata": {
    "hidden": true
   },
   "source": []
  },
  {
   "cell_type": "markdown",
   "id": "bd0eb3d0",
   "metadata": {
    "heading_collapsed": true,
    "hidden": true
   },
   "source": [
    "## Parent_id"
   ]
  },
  {
   "cell_type": "code",
   "execution_count": 11,
   "id": "2960df25",
   "metadata": {
    "hidden": true
   },
   "outputs": [],
   "source": [
    "seri1=merged_train.groupby(by=\"parent_id\").agg(\n",
    "    summ=('is_callcenter', lambda x: np.sum(x)),\n",
    "    countt=(\"is_callcenter\",lambda x: len(x)))"
   ]
  },
  {
   "cell_type": "code",
   "execution_count": 12,
   "id": "50c478de",
   "metadata": {
    "hidden": true
   },
   "outputs": [],
   "source": [
    "seri1[\"ratio\"] = seri1[\"summ\"]/seri1[\"countt\"]\n",
    "\n",
    "ratio_cat_id = seri1[seri1.countt>200].sort_values(by=\"ratio\")\n",
    "\n",
    "cat_id_inds = ratio_cat_id.index"
   ]
  },
  {
   "cell_type": "code",
   "execution_count": 13,
   "id": "fd1f6089",
   "metadata": {
    "hidden": true
   },
   "outputs": [],
   "source": [
    "# считать не все, а те которые не попали???\n",
    "const = merged_train[\"is_callcenter\"].sum() / merged_train[\"is_callcenter\"].count()\n",
    "\n",
    "def fill_category_id(data):\n",
    "    if data not in cat_id_inds:\n",
    "        return const\n",
    "    elif data in cat_id_inds:\n",
    "        return ratio_cat_id.loc[data][\"ratio\"]\n",
    "    \n",
    "    \n",
    "merged_train[\"parent_id_ratio\"] = merged_train[\"parent_id\"].apply(fill_category_id)\n",
    "merged_test[\"parent_id_ratio\"] = merged_test[\"parent_id\"].apply(fill_category_id)"
   ]
  },
  {
   "cell_type": "code",
   "execution_count": null,
   "id": "76156c5e",
   "metadata": {
    "hidden": true
   },
   "outputs": [],
   "source": []
  },
  {
   "cell_type": "markdown",
   "id": "3ee2421c",
   "metadata": {
    "heading_collapsed": true,
    "hidden": true
   },
   "source": [
    "## root_id"
   ]
  },
  {
   "cell_type": "code",
   "execution_count": 14,
   "id": "e2cfe308",
   "metadata": {
    "hidden": true
   },
   "outputs": [],
   "source": [
    "seri1=merged_train.groupby(by=\"root_id\").agg(\n",
    "    summ=('is_callcenter', lambda x: np.sum(x)),\n",
    "    countt=(\"is_callcenter\",lambda x: len(x)))\n",
    "\n",
    "seri1[\"ratio\"] = seri1[\"summ\"]/seri1[\"countt\"]\n",
    "\n",
    "ratio_cat_id = seri1[seri1.countt>30].sort_values(by=\"ratio\")\n",
    "\n",
    "cat_id_inds = ratio_cat_id.index"
   ]
  },
  {
   "cell_type": "code",
   "execution_count": 15,
   "id": "5ed855f7",
   "metadata": {
    "hidden": true
   },
   "outputs": [],
   "source": [
    "ratio_cat_id.countt.sum()\n",
    "\n",
    "const = merged_train[\"is_callcenter\"].sum() / merged_train[\"is_callcenter\"].count()\n",
    "\n",
    "def fill_category_id(data):\n",
    "    if data not in cat_id_inds:\n",
    "        return const\n",
    "    elif data in cat_id_inds:\n",
    "        return ratio_cat_id.loc[data][\"ratio\"]\n",
    "    \n",
    "    \n",
    "merged_train[\"root_id_ratio\"] = merged_train[\"root_id\"].apply(fill_category_id)\n",
    "merged_test[\"root_id_ratio\"] = merged_test[\"root_id\"].apply(fill_category_id)"
   ]
  },
  {
   "cell_type": "markdown",
   "id": "c5b83cb9",
   "metadata": {
    "heading_collapsed": true,
    "hidden": true
   },
   "source": [
    "## utm_source"
   ]
  },
  {
   "cell_type": "code",
   "execution_count": 16,
   "id": "f078d19e",
   "metadata": {
    "hidden": true
   },
   "outputs": [],
   "source": [
    "seri1=merged_train.groupby(by=\"utm_source\").agg(\n",
    "    summ=('is_callcenter', lambda x: np.sum(x)),\n",
    "    countt=(\"is_callcenter\",lambda x: len(x)))\n",
    "\n",
    "seri1[\"ratio\"] = seri1[\"summ\"]/seri1[\"countt\"]\n",
    "\n",
    "ratio_cat_id = seri1[seri1.countt>50].sort_values(by=\"ratio\")\n",
    "\n",
    "cat_id_inds = ratio_cat_id.index"
   ]
  },
  {
   "cell_type": "code",
   "execution_count": 17,
   "id": "d3e13813",
   "metadata": {
    "hidden": true
   },
   "outputs": [],
   "source": [
    "const = merged_train[\"is_callcenter\"].sum() / merged_train[\"is_callcenter\"].count()\n",
    "\n",
    "def fill_category_id(data):\n",
    "    if data not in cat_id_inds:\n",
    "        return const\n",
    "    elif data in cat_id_inds:\n",
    "        return ratio_cat_id.loc[data][\"ratio\"]\n",
    "    \n",
    "    \n",
    "merged_train[\"utm_source_id_ratio\"] = merged_train[\"utm_source\"].apply(fill_category_id)\n",
    "merged_test[\"utm_source_id_ratio\"] = merged_test[\"utm_source\"].apply(fill_category_id)"
   ]
  },
  {
   "cell_type": "code",
   "execution_count": null,
   "id": "d28b1192",
   "metadata": {
    "hidden": true
   },
   "outputs": [],
   "source": []
  },
  {
   "cell_type": "markdown",
   "id": "eccb3c93",
   "metadata": {
    "heading_collapsed": true,
    "hidden": true
   },
   "source": [
    "## utm_medium"
   ]
  },
  {
   "cell_type": "code",
   "execution_count": 18,
   "id": "51144ee0",
   "metadata": {
    "hidden": true
   },
   "outputs": [],
   "source": [
    "seri1=merged_train.groupby(by='utm_medium').agg(\n",
    "    summ=('is_callcenter', lambda x: np.sum(x)),\n",
    "    countt=(\"is_callcenter\",lambda x: len(x)))\n",
    "\n",
    "seri1[\"ratio\"] = seri1[\"summ\"]/seri1[\"countt\"]\n",
    "\n",
    "ratio_cat_id = seri1[seri1.countt>50].sort_values(by=\"ratio\")\n",
    "\n",
    "cat_id_inds = ratio_cat_id.index"
   ]
  },
  {
   "cell_type": "code",
   "execution_count": 19,
   "id": "dd7ede86",
   "metadata": {
    "hidden": true
   },
   "outputs": [],
   "source": [
    "const = merged_train[\"is_callcenter\"].sum() / merged_train[\"is_callcenter\"].count()\n",
    "\n",
    "def fill_category_id(data):\n",
    "    if data not in cat_id_inds:\n",
    "        return const\n",
    "    elif data in cat_id_inds:\n",
    "        return ratio_cat_id.loc[data][\"ratio\"]\n",
    "    \n",
    "    \n",
    "merged_train[\"utm_medium_id_ratio\"] = merged_train[\"utm_medium\"].apply(fill_category_id)\n",
    "merged_test[\"utm_medium_id_ratio\"] = merged_test[\"utm_medium\"].apply(fill_category_id)"
   ]
  },
  {
   "cell_type": "code",
   "execution_count": null,
   "id": "1bd60943",
   "metadata": {
    "hidden": true
   },
   "outputs": [],
   "source": []
  },
  {
   "cell_type": "code",
   "execution_count": null,
   "id": "b0a418e1",
   "metadata": {
    "hidden": true
   },
   "outputs": [],
   "source": []
  },
  {
   "cell_type": "code",
   "execution_count": null,
   "id": "05bcf80b",
   "metadata": {
    "hidden": true
   },
   "outputs": [],
   "source": []
  },
  {
   "cell_type": "code",
   "execution_count": null,
   "id": "d0e445f4",
   "metadata": {
    "hidden": true
   },
   "outputs": [],
   "source": []
  },
  {
   "cell_type": "code",
   "execution_count": null,
   "id": "e3e666e9",
   "metadata": {
    "hidden": true
   },
   "outputs": [],
   "source": []
  },
  {
   "cell_type": "code",
   "execution_count": null,
   "id": "d7ef813e",
   "metadata": {
    "hidden": true
   },
   "outputs": [],
   "source": []
  },
  {
   "cell_type": "code",
   "execution_count": null,
   "id": "02bf0f21",
   "metadata": {
    "hidden": true
   },
   "outputs": [],
   "source": []
  }
 ],
 "metadata": {
  "kernelspec": {
   "display_name": "Python 3 (ipykernel)",
   "language": "python",
   "name": "python3"
  },
  "language_info": {
   "codemirror_mode": {
    "name": "ipython",
    "version": 3
   },
   "file_extension": ".py",
   "mimetype": "text/x-python",
   "name": "python",
   "nbconvert_exporter": "python",
   "pygments_lexer": "ipython3",
   "version": "3.9.12"
  }
 },
 "nbformat": 4,
 "nbformat_minor": 5
}
