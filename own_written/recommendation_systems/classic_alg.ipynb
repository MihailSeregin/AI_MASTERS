{
 "cells": [
  {
   "cell_type": "markdown",
   "id": "7c7bc393",
   "metadata": {},
   "source": [
    "# Автор: Серегин Михаил\n"
   ]
  },
  {
   "cell_type": "code",
   "execution_count": 131,
   "id": "4095e4e1",
   "metadata": {},
   "outputs": [],
   "source": [
    "import pandas as pd\n",
    "import numpy as np\n",
    "import random\n",
    "from surprise import Dataset\n",
    "from surprise import Reader\n",
    "from sklearn.metrics.pairwise import cosine_similarity\n",
    "from sklearn.feature_selection import r_regression\n",
    "from sklearn.metrics import pairwise_distances\n",
    "import tqdm\n",
    "import surprise.prediction_algorithms.knns\n",
    "import matplotlib.pyplot as plt"
   ]
  },
  {
   "cell_type": "markdown",
   "id": "340757c2",
   "metadata": {},
   "source": [
    "# KNNWithMeans"
   ]
  },
  {
   "cell_type": "code",
   "execution_count": 122,
   "id": "960952f3",
   "metadata": {},
   "outputs": [],
   "source": [
    "class KNNWithMeans:\n",
    "    def __init__(self, k=40, user_based=True, metric=\"cosine\"):\n",
    "        self.k = k\n",
    "        self.axis = 1 if user_based else 0\n",
    "        assert metric == \"cosine\"\n",
    "        self.metric = metric\n",
    "        assert type(user_based) is bool\n",
    "        self.user_based = user_based if user_based else False\n",
    "        \n",
    "    def fit(self, df_training):\n",
    "\n",
    "        df = df_training.copy()\n",
    "        df.index = range(len(df.index))  # индексация начинается с 0!\n",
    "        df.columns = range(len(df.columns))\n",
    "\n",
    "        not_null_users = np.array(df.notnull().sum(axis=1))  + 0.00000001 \n",
    "        not_null_items = np.array(df.notnull().sum(axis=0)) + 0.00000001\n",
    "        self.x_train = df.fillna(0)       \n",
    "        self.mu_users = np.array(df.fillna(0).sum(axis=1) / not_null_users)\n",
    "        self.mu_items = np.array(df.fillna(0).sum(axis=0) / not_null_items)\n",
    "            \n",
    "        if not self.user_based:\n",
    "            self.x_train = self.x_train.T        \n",
    "        \n",
    "        self.comput_neighbourhood() # подсчет попарных расстояний\n",
    "    \n",
    "    def comput_neighbourhood(self,):\n",
    "        \"\"\"\n",
    "        Функция ищет расстояние от каждого пользователя до каждого\n",
    "        a_ij = расстояние от i до j\n",
    "        \"\"\"\n",
    "\n",
    "        if self.metric == \"cosine\":\n",
    "            self.dist = cosine_similarity(self.x_train)\n",
    "            self.argsort_dist = np.argsort(self.dist,axis=1)[:,::-1] # id тех пользователей, которые наиболее близки\n",
    "\n",
    "        return\n",
    "    \n",
    "    def check_rating_exsists(self, potential_similar_user, item):\n",
    "        \"\"\"\n",
    "        Returns unbiased rating of item if exists, else False.\n",
    "        \"\"\"\n",
    "\n",
    "        out = self.x_train.iloc[potential_similar_user,item]\n",
    "        if out == 0:\n",
    "            return False\n",
    "        else:\n",
    "            mu = self.mu_users[potential_similar_user] if self.user_based else self.mu_items[potential_similar_user]\n",
    "            return out - mu\n",
    "\n",
    "    def score_without_mu(self, user, item):\n",
    "        \"\"\"\n",
    "        Для пользователя user расчитывает сглаженную оценку предмета item,\n",
    "        путем усреднения с весами разницы между среднеми оценками близких пользователей и оценкой данной предмету item.\n",
    "        \"\"\"\n",
    "\n",
    "        arr_user_dist = self.dist[user]\n",
    "        arr_argsort_nearest = self.argsort_dist[user][1:]\n",
    "        lst_sim_nearest = []\n",
    "        lst_ratings = []\n",
    "        for potential_similar_user in arr_argsort_nearest:\n",
    "            if len(lst_sim_nearest) == self.k:\n",
    "                break\n",
    "            \n",
    "            rating_if_exists = self.check_rating_exsists(potential_similar_user, item) # возвращает unbiased rating if exists else 0\n",
    "            if rating_if_exists is not False:\n",
    "                lst_sim_nearest.append(arr_user_dist[potential_similar_user])\n",
    "                lst_ratings.append(rating_if_exists)\n",
    "      \n",
    "        # на этом этапе уже собрали два списка, содержащие несмещенные рейтинги и расстояния до них. \n",
    "        \n",
    "        if np.sum(np.array(lst_sim_nearest)) == 0: # что лучше возвращать сначала?\n",
    "\n",
    "            if self.mu_items[item] != 0:\n",
    "\n",
    "                return self.mu_items[item]\n",
    "            elif self.mu_users[user] != 0:\n",
    "\n",
    "                return self.mu_users[user]\n",
    "            else:\n",
    "   \n",
    "                return np.mean(self.mu_items[item])\n",
    "                \n",
    "        return np.sum(np.array(lst_sim_nearest) * np.array(lst_ratings)) / np.sum(np.array(lst_sim_nearest))\n",
    "        \n",
    "    def predict(self, pivot_):\n",
    "        \"\"\"\n",
    "        Функция предсказывает рейтинги по поданной на вход сводной таблице,\n",
    "        первым столбцом которой является номер пользователя, вторым номером товара. \n",
    "        \n",
    "        Вход: сводная таблица, с произвольным индексом. \n",
    "        Первый столбец - столбец users, если считать их с 1. Второй столбец - индекс товара, считая также с 1\n",
    "        Выход: массив предсказаний. \n",
    "        \n",
    "        \"\"\"\n",
    "        pivot = pivot_.copy()\n",
    "        pred = np.zeros(shape=len(pivot.index))\n",
    "\n",
    "        \n",
    "        for i in range(len(pivot.index)):\n",
    "            user, item = list(map(int, list(pivot.iloc[i]))) if self.user_based else list(map(int, list(pivot.iloc[i])))[::-1]\n",
    "            # user and item приходит, однако его id в нашей матрице -  user-1\n",
    "            \n",
    "            user -= 1\n",
    "            item -= 1\n",
    "            plus = self.score_without_mu(user, item) \n",
    "            \n",
    "            r_ui = self.mu_users[user] + plus if self.user_based else self.mu_items[user] + plus\n",
    "            \n",
    "            pred[i] = r_ui\n",
    "            \n",
    "        return np.clip(pred, 1,5)"
   ]
  },
  {
   "cell_type": "markdown",
   "id": "c23f800c",
   "metadata": {},
   "source": [
    "Тестирование"
   ]
  },
  {
   "cell_type": "code",
   "execution_count": 3,
   "id": "7fa55eee",
   "metadata": {},
   "outputs": [],
   "source": [
    "\"\"\"\n",
    "Класс содержит собственные тесты для простого датасета\n",
    "\"\"\"\n",
    "class TestWithMeans:\n",
    "    def __init__(self,):\n",
    "        data = np.array([[4.0,  np.nan,  np.nan,  3.0], [4.0 , 1.0 , 4.0,  4.0],[np.nan , 1.0 ,np.nan , np.nan],[1.0 , 2.0  ,1.0  ,1.0]])\n",
    "        \n",
    "        self.df_test = pd.DataFrame(data, index=range(1,5),columns=range(1,5))\n",
    "        \n",
    "        pivot = self.df_test.copy()\n",
    "        pivot[\"id\"] = pivot.index\n",
    "        pivot = pd.melt(pivot, id_vars=\"id\")\n",
    "        pivot.dropna(inplace=True)\n",
    "        pivot_test = pivot.iloc[:4]\n",
    "        pivot_test.index = range(len(pivot_test.index))\n",
    "        del pivot_test[\"value\"]\n",
    "        \n",
    "        self.pivot_test = pivot_test\n",
    "\n",
    "    \n",
    "    def k1(self,):\n",
    "        ans = []\n",
    "        for user_based in [True, False]:\n",
    "            knn = KNNWithMeans(k=1,user_based=user_based)\n",
    "            knn.fit(self.df_test)\n",
    "            pred = knn.predict(self.pivot_test)\n",
    "            pred_true = np.array([4.25,3.75,2.,4.]) if user_based else np.array([3.33, 4.33, 1.33, 2.83])\n",
    "            ans.append(np.all(np.abs(pred-pred_true) <0.01))\n",
    "            \n",
    "        assert np.all(np.array(ans))\n",
    "            \n",
    "        \n",
    "        \n",
    "    def k2(self,):\n",
    "        ans = []\n",
    "        for user_based in [True, False]:\n",
    "            knn = KNNWithMeans(k=2,user_based=user_based)\n",
    "            knn.fit(self.df_test)\n",
    "            pred = knn.predict(self.pivot_test)\n",
    "            pred_true = np.array([3.85, 3.38, 1.89, 3.880]) if user_based else np.array([3.333, 4.403, 1.403, 2.758])\n",
    "            ans.append(np.all(np.abs(pred-pred_true) <0.01))\n",
    "        assert np.all(np.abs(pred-pred_true) <0.01)\n",
    "        \n",
    "    def k3(self,):\n",
    "        ans = []\n",
    "        for user_based in [True, False]:\n",
    "            knn = KNNWithMeans(k=3,user_based=user_based)\n",
    "            knn.fit(self.df_test)\n",
    "            pred = knn.predict(self.pivot_test)\n",
    "            pred_true = np.array([3.85, 3.38, 1.89, 3.88]) if user_based else np.array([3.333, 4.056, 1.855, 2.637])\n",
    "            ans.append(np.all(np.abs(pred-pred_true) <0.05))\n",
    "        assert np.all(np.abs(pred-pred_true) <0.01)\n",
    "        \n",
    "    def __call__(self):\n",
    "        self.k1()\n",
    "        self.k2()\n",
    "        self.k3()\n",
    "        \n",
    "        "
   ]
  },
  {
   "cell_type": "code",
   "execution_count": 4,
   "id": "98059334",
   "metadata": {},
   "outputs": [],
   "source": [
    "def small():\n",
    "    data = np.array([[4.0,  np.nan,  np.nan,  3.0], [4.0 , 1.0 , 4.0,  4.0],[np.nan , 1.0 ,np.nan , np.nan],[1.0 , 2.0  ,1.0  ,1.0]])\n",
    "    df_test = pd.DataFrame(data, index=range(1,5),columns=range(1,5))\n",
    "    mask = ~df_test.isna().to_numpy()\n",
    "    R = df_test.fillna(0).to_numpy()\n",
    "    return R, mask"
   ]
  },
  {
   "cell_type": "code",
   "execution_count": 5,
   "id": "180dc920",
   "metadata": {},
   "outputs": [],
   "source": [
    "test = TestWithMeans()\n",
    "test()"
   ]
  },
  {
   "cell_type": "markdown",
   "id": "12a6032d",
   "metadata": {},
   "source": [
    "# KNNBasic"
   ]
  },
  {
   "cell_type": "code",
   "execution_count": 113,
   "id": "04716368",
   "metadata": {},
   "outputs": [],
   "source": [
    "class KNNBasic:\n",
    "    \n",
    "    def __init__(self, k=40, user_based=True, metric=\"cosine\"):\n",
    "        self.k = k\n",
    "        assert metric == \"cosine\"\n",
    "        self.metric = metric\n",
    "        assert type(user_based) is bool\n",
    "        self.user_based = user_based if user_based else False\n",
    "        \n",
    "        \n",
    "        \n",
    "    def fit(self, df_training):\n",
    "        \"\"\"\n",
    "        \"\"\"\n",
    "        df = df_training.copy()\n",
    "        df.index = range(len(df.index))  # индексация начинается с 0!\n",
    "        df.columns = range(len(df.columns))\n",
    "\n",
    "        not_null_users = np.array(df.notnull().sum(axis=1)) + 0.000001\n",
    "        not_null_items = np.array(df.notnull().sum(axis=0)) + 0.000001\n",
    "        self.x_train = df.fillna(0)       # заполняем пропущенные значения нулями\n",
    "        self.mu_us = np.array(df.fillna(0).sum(axis=1) / not_null_users)\n",
    "        self.mu_it = np.array(df.fillna(0).sum(axis=0) / not_null_items)\n",
    "            \n",
    "        if not self.user_based:\n",
    "            self.x_train = self.x_train.T\n",
    "        \n",
    "        # здесь можно расчитать попарные расстояния\n",
    "        self.comput_neighbourhood()\n",
    "\n",
    "    \n",
    "    def comput_neighbourhood(self,):\n",
    "        \"\"\"\n",
    "        Функция ищет расстояние от каждого пользователя до каждого\n",
    "        a_ij = расстояние от i до j\n",
    "        \n",
    "        \"\"\"\n",
    "\n",
    "        if self.metric == \"cosine\":\n",
    "            self.dist = cosine_similarity(self.x_train)\n",
    "            self.argsort_dist = np.argsort(self.dist,axis=1)[:,::-1] # id тех пользователей, которые наиболее близки\n",
    "\n",
    "        return\n",
    "    \n",
    "    def check_rating_exsists(self, potential_similar_user, item):\n",
    "        \"\"\"\n",
    "        Returns unbiased rating of item if exists, else False.\n",
    "        \"\"\"\n",
    "        out = self.x_train.iloc[potential_similar_user,item]\n",
    "\n",
    "        if out == 0:\n",
    "            return False\n",
    "        else:\n",
    "            return out\n",
    "    \n",
    "    def score_without_mu(self, user, item):\n",
    "        \"\"\"\n",
    "        Для пользователя user расчитывает сглаженную оценку предмета item,\n",
    "        путем усреднения с весами разницы между среднеми оценками близких пользователей и оценкой данной предмету item.\n",
    "        \"\"\"\n",
    "        arr_user_dist = self.dist[user] # убрал индексацию \n",
    "        arr_argsort_nearest = self.argsort_dist[user][1:]\n",
    "\n",
    "        lst_sim_nearest = []\n",
    "        lst_ratings = []\n",
    "        for potential_similar_user in arr_argsort_nearest:\n",
    "            if len(lst_sim_nearest) == self.k:\n",
    "                break\n",
    "                \n",
    "            \n",
    "            rating_if_exists = self.check_rating_exsists(potential_similar_user, item) # возвращает unbiased rating if exists else 0\n",
    "\n",
    "            if rating_if_exists is not False:\n",
    "                lst_sim_nearest.append(arr_user_dist[potential_similar_user])\n",
    "                lst_ratings.append(rating_if_exists)\n",
    "      \n",
    "        # на этом этапе уже собрали два списка, содержащие несмещенные рейтинги и расстояния до них.       \n",
    "        if np.sum(np.array(lst_sim_nearest)) == 0: # что лучше возвращать сначала?\n",
    "            if self.mu_it[item] != 0:\n",
    "                return self.mu_it[item]\n",
    "            elif self.mu_us[user] != 0:\n",
    "                return self.mu_us[user]\n",
    "            else:\n",
    "                return np.mean(self.mu_it)\n",
    "                \n",
    "            \n",
    "        return np.sum(np.array(lst_sim_nearest) * np.array(lst_ratings)) / np.sum(np.array(lst_sim_nearest))\n",
    "        \n",
    "    def predict(self, pivot_):\n",
    "        \"\"\"\n",
    "        Функция предсказывает рейтинги по поданной на вход сводной таблице,\n",
    "        первым столбцом которой является номер пользователя, вторым номером товара. \n",
    "        \n",
    "        Вход: сводная таблица, с произвольным индексом. \n",
    "        Первый столбец - столбец users, если считать их с 1. Второй столбец - индекс товара, считая также с 1\n",
    "        Выход: массив предсказаний. \n",
    "        \n",
    "        \"\"\"\n",
    "        pivot = pivot_.copy()\n",
    "        pred = np.zeros(shape=len(pivot.index))\n",
    "\n",
    "        \n",
    "        for i in range(len(pivot.index)):\n",
    "            user, item = list(map(int, list(pivot.iloc[i]))) if self.user_based else list(map(int, list(pivot.iloc[i])))[::-1]\n",
    "            # user and item приходит, однако его id в нашей матрице есть user - 1\n",
    "            \n",
    "            user -= 1\n",
    "            item -= 1\n",
    "            plus = self.score_without_mu(user, item) \n",
    "            pred[i] = plus\n",
    "            \n",
    "            \n",
    "\n",
    "        return np.clip(pred, 1,5)"
   ]
  },
  {
   "cell_type": "code",
   "execution_count": 7,
   "id": "3942ba2b",
   "metadata": {},
   "outputs": [],
   "source": [
    "def pivot_to_df(pivot_, user, item, rating):\n",
    "    \"\"\"\n",
    "    Функция по поданной сводной таблице строит pandas.DataFrame. \n",
    "    Вход: сводная таблица, например \n",
    "    >>> data = Dataset.load_builtin('ml-100k')\n",
    "    Выход: pandas.DataFrame\n",
    "    \"\"\"\n",
    "    pivot = pivot_.copy()\n",
    "    pivot[user] = pivot[user].astype(int)\n",
    "    pivot[item] = pivot[item].astype(int)\n",
    "    pivot[rating] = pivot[rating].astype(int)\n",
    "\n",
    "    new_df = pd.DataFrame(index=range(1, max(pivot[user])+1), columns=range(1, max(pivot[item])+1))\n",
    "\n",
    "    for i in pivot.index:\n",
    "        curuser, curitem, currating = pivot.iloc[i]\n",
    "\n",
    "        new_df.loc[curuser,curitem] = currating\n",
    "\n",
    "        \n",
    "    return new_df "
   ]
  },
  {
   "cell_type": "markdown",
   "id": "f6380c06",
   "metadata": {},
   "source": [
    "# SVD"
   ]
  },
  {
   "cell_type": "code",
   "execution_count": 700,
   "id": "75d28453",
   "metadata": {},
   "outputs": [],
   "source": [
    "class SVD:\n",
    "    def __init__(self,method=\"SGD\", n_factors=5, n_epochs=10, lr=0.001,reg=0.02,random_state=1):\n",
    "        self.method = method\n",
    "        self.n_epochs = n_epochs\n",
    "        self.n_factors = n_factors\n",
    "        self.reg = reg\n",
    "        self.random_state = random_state\n",
    "        self.lr=lr\n",
    "    \n",
    "        \n",
    "    def compute_us_U(self,RR, P,Q, I,mu, mask, notna_1):\n",
    "        us = (np.sum((RR - P@Q - I - mu)*mask,axis=1)/notna_1).reshape(-1,1) # уцмножаю на маску, чтобы усреднение делать только по известным меткам\n",
    "        U = us*np.ones_like(RR)\n",
    "        return us, U\n",
    "\n",
    "    def compute_it_I(self,RR,P,Q,U,mu, mask, notna_0):\n",
    "        it = np.sum((RR - P@Q - U - mu)*mask, axis=0) / notna_0\n",
    "        I = it*np.ones_like(RR)\n",
    "        return it, I\n",
    "    \n",
    "    def _sgd(self,df_train):\n",
    "        np.random.seed(1)\n",
    "        random.seed(1)\n",
    "        \n",
    "        RR = df_train.fillna(0).to_numpy()\n",
    "        mask = RR != 0\n",
    "        not_null = mask.sum()\n",
    "\n",
    "        P = np.random.random((RR.shape[0],self.n_factors))\n",
    "        Q = np.random.random((self.n_factors,RR.shape[1]))\n",
    "\n",
    "        us = np.random.random((RR.shape[0],1))\n",
    "        it = np.random.random((1,RR.shape[1]))\n",
    "\n",
    "        U = us*np.ones_like(RR) \n",
    "        I = it*np.ones_like(RR)\n",
    "\n",
    "        mu = np.ones_like(RR) * RR.sum() / not_null\n",
    "\n",
    "        notna_0 = mask.sum(axis=0) + 0.00001\n",
    "        notna_1 = mask.sum(axis=1) + 0.00001\n",
    "        for _ in range(self.n_epochs):\n",
    "            E = (RR - P @ Q - U - I - mu) * mask\n",
    "            P = P + self.lr*(((Q@E.T)/notna_1).T - self.reg*P)\n",
    "\n",
    "            E = (RR - P @ Q - U - I - mu) * mask\n",
    "            Q = Q + self.lr*((P.T@E)/notna_0 - self.reg*Q)\n",
    "\n",
    "\n",
    "\n",
    "            us, U = self.compute_us_U(RR, P,Q, I,mu, mask,notna_1)\n",
    "            it, I = self.compute_it_I(RR,P,Q,U,mu, mask,notna_0)\n",
    "   \n",
    "        self.mu = mu\n",
    "        self.P = P\n",
    "        self.Q = Q\n",
    "        self.I = I\n",
    "        self.U = U\n",
    "    def _als(self,df_train):\n",
    "\n",
    "        n_factors = self.n_factors\n",
    "        random.seed(3)\n",
    "        np.random.seed(3)\n",
    "        RR = df_train.fillna(0).to_numpy()\n",
    "\n",
    "        P = np.random.random((RR.shape[0],n_factors))\n",
    "        Q = np.random.random((n_factors,RR.shape[1]))\n",
    "        mask = RR != 0 \n",
    "        R_est = RR + (P@Q)*~mask\n",
    "        not_null = mask.sum()\n",
    "        us = np.random.random((RR.shape[0],1))\n",
    "        it = np.random.random((1,RR.shape[1]))\n",
    "\n",
    "        U = us*np.ones_like(RR) \n",
    "\n",
    "        I = it*np.ones_like(RR)\n",
    "        \n",
    "\n",
    "        notna_0 = mask.sum(axis=0) + 0.00001\n",
    "        notna_1 = mask.sum(axis=1) + 0.00001\n",
    "        mu = np.ones_like(RR) * RR.sum() / not_null\n",
    "\n",
    "        for _ in range(self.n_epochs):\n",
    "            us, U = self.compute_us_U(RR, P,Q, I,mu, mask, notna_1)\n",
    "            it, I = self.compute_it_I(RR,P,Q,U,mu, mask, notna_0)\n",
    "\n",
    "            R_est = RR + (P@Q+I+U+mu)*~mask\n",
    "            P = (np.linalg.inv((Q@Q.T)) @ (Q@R_est.T - Q@(U.T+I.T + mu.T))).T\n",
    "\n",
    "            R_est = RR + (P@Q+I+U+mu)*~mask   \n",
    "            Q = (np.linalg.inv((P.T@P))@(P.T @ R_est - P.T@(U+I+mu)))\n",
    "    \n",
    "        self.mu = mu\n",
    "        self.P = P\n",
    "        self.Q = Q\n",
    "        self.I = I\n",
    "        self.U = U\n",
    "\n",
    "\n",
    "    def fit(self,df_train_):\n",
    "        np.random.seed(self.random_state)\n",
    "        df_train = df_train_.copy()\n",
    "        if self.method == \"SGD\":\n",
    "            self._sgd(df_train)\n",
    "        else:\n",
    "            self._als(df_train)\n",
    "\n",
    "    def predict(self,pivot_predict):\n",
    "        pivot = pivot_predict.copy()\n",
    "        pred = np.zeros(shape=len(pivot.index))\n",
    "        restored_R = self.P @ self.Q + self.U + self.I + self.mu\n",
    "        \n",
    "        for i in range(len(pivot.index)):\n",
    "            user, item = list(map(int, list(pivot.iloc[i])))\n",
    "            \n",
    "            user -= 1\n",
    "            item -= 1\n",
    "            \n",
    "            pred[i] = restored_R[user,item]\n",
    "        return pred.clip(1,5)\n",
    "    \n",
    "    \n",
    "    def KFold_val(self,path_load_dataset=\"ml-100k\",k=3):\n",
    "        dataml = Dataset.load_builtin('ml-100k')\n",
    "        ml = pd.DataFrame(dataml.raw_ratings)\n",
    "        ml.columns = ['user', 'item', 'rating', 'timestamp']\n",
    "        del ml[\"timestamp\"]\n",
    "        df_got = pivot_to_df(ml,\"user\", \"item\", \"rating\")\n",
    "        ln = ml.shape[0]\n",
    "        left_border = 0\n",
    "        lst_loss = []\n",
    "        for right_border in np.linspace(0,ln,k):\n",
    "            if right_border==0:\n",
    "                continue\n",
    "            my_pivot = ml.iloc[round(left_border):round(right_border)].copy()\n",
    "            true_raiting = my_pivot[\"rating\"].copy()\n",
    "            del my_pivot[\"rating\"]\n",
    "            new_df = df_got.copy()\n",
    "\n",
    "\n",
    "            for i in my_pivot.index:\n",
    "                user, item = list(map(int, my_pivot.loc[i]))\n",
    "                new_df.loc[user,item] = np.nan\n",
    "            \n",
    "            true_raiting = np.array(true_raiting)\n",
    "            indices = list(zip(np.array(my_pivot[\"user\"]), np.array(my_pivot[\"item\"])))\n",
    "            \n",
    "            \n",
    "            self.fit(new_df)\n",
    "            pred = self.predict(my_pivot)\n",
    "            lst_loss.append(np.sqrt((np.array(pred - true_raiting)**2).sum() / len(pred))) \n",
    "            left_border = right_border\n",
    "        return np.mean(np.array(lst_loss))\n",
    "        \n",
    "        "
   ]
  },
  {
   "cell_type": "code",
   "execution_count": null,
   "id": "7455e489",
   "metadata": {},
   "outputs": [],
   "source": [
    "# dataml = Dataset.load_builtin('ml-100k')\n",
    "# ml = pd.DataFrame(dataml.raw_ratings)\n",
    "# ml.columns = ['user', 'item', 'rating', 'timestamp']\n",
    "# del ml[\"timestamp\"]\n",
    "# df_got = pivot_to_df(ml,\"user\", \"item\", \"rating\")\n",
    "\n",
    "# my_pivot = ml.iloc[:10000].copy()\n",
    "# true_raiting = my_pivot[\"rating\"].copy()\n",
    "# del my_pivot[\"rating\"]\n",
    "# new_df = df_got.copy()\n",
    "\n",
    "\n",
    "# for i in my_pivot.index:\n",
    "#     user, item = list(map(int, my_pivot.loc[i]))\n",
    "#     new_df.loc[user,item] = np.nan\n",
    "    \n",
    "\n",
    "# RR = new_df.fillna(0).to_numpy()\n",
    "\n",
    "# true_raiting = np.array(true_raiting)\n",
    "\n",
    "# indices = list(zip(np.array(my_pivot[\"user\"]), np.array(my_pivot[\"item\"])))"
   ]
  },
  {
   "cell_type": "code",
   "execution_count": 125,
   "id": "019e3008",
   "metadata": {},
   "outputs": [],
   "source": []
  },
  {
   "cell_type": "code",
   "execution_count": null,
   "id": "0a03ac6a",
   "metadata": {},
   "outputs": [],
   "source": []
  },
  {
   "cell_type": "code",
   "execution_count": 709,
   "id": "606dd104",
   "metadata": {},
   "outputs": [],
   "source": [
    "\"\"\"\n",
    "Все алгоритмы будем тестировать по таблице new_df, которая получена путем удаления элементов, участвующих в валидации.\n",
    "В качестве валидационной таблицы используем my_pivot\n",
    "\"\"\"\n",
    "\n",
    "def compute_ml():\n",
    "    dataml = Dataset.load_builtin(\"ml-100k\")\n",
    "    ml = pd.DataFrame(dataml.raw_ratings)\n",
    "    ml.columns = ['user', 'item', 'rating', 'timestamp']\n",
    "    del ml[\"timestamp\"]\n",
    "    return ml, pivot_to_df(ml,\"user\", \"item\", \"rating\")\n",
    "\n",
    "ml, df_got = compute_ml()\n",
    "my_pivot = ml.iloc[:5000].copy()\n",
    "\n",
    "true_raiting = my_pivot[\"rating\"].copy()\n",
    "del my_pivot[\"rating\"]\n",
    "new_df = df_got.copy()\n",
    "\n",
    "\n",
    "for i in my_pivot.index:\n",
    "    user, item = list(map(int, my_pivot.loc[i]))\n",
    "    new_df.loc[user,item] = np.nan\n",
    "true_raiting = np.array(true_raiting)"
   ]
  },
  {
   "cell_type": "code",
   "execution_count": 202,
   "id": "bebdcc04",
   "metadata": {},
   "outputs": [],
   "source": [
    "\"\"\"\n",
    "Класс имплементирует KFold validation для KNN algorithms\n",
    "\"\"\"\n",
    "class TestKNN:\n",
    "    def __init__(self, algo, k=40, user_based=True):\n",
    "        if algo not in [\"KNNBasic\", \"KNNWithMeans\"]:\n",
    "            raise \"algo must be only KNNBasic or KNNWithMeans\"\n",
    "        self.my_algo = KNNBasic if algo == \"KNNBasic\" else KNNWithMeans\n",
    "        self.k = k\n",
    "        self.user_based = user_based\n",
    "        \n",
    "        self.ml = ml\n",
    "        self.df_got = df_got\n",
    "    \n",
    "    def KFold_val(self,k=20):\n",
    "\n",
    "        ml = self.ml      \n",
    "        df_got = self.df_got\n",
    "        \n",
    "        ln = ml.shape[0]\n",
    "        left_border = 0\n",
    "        lst_loss = []\n",
    "        for right_border in np.linspace(0,ln,k):\n",
    "            if right_border == 0:\n",
    "                continue\n",
    "                \n",
    "            my_pivot = ml.iloc[round(left_border):round(right_border)].copy()\n",
    "\n",
    "            true_raiting = my_pivot[\"rating\"].copy()\n",
    "            del my_pivot[\"rating\"]\n",
    "            new_df = df_got.copy()\n",
    "\n",
    "            \n",
    "            for i in my_pivot.index:\n",
    "                user, item = list(map(int, my_pivot.loc[i]))\n",
    "                new_df.loc[user,item] = np.nan\n",
    "            true_raiting = np.array(true_raiting)\n",
    "            indices = list(zip(np.array(my_pivot[\"user\"]), np.array(my_pivot[\"item\"])))\n",
    "\n",
    "            my_knn = self.my_algo(k=self.k, user_based=self.user_based)\n",
    "            \n",
    "            my_knn.fit(new_df)\n",
    "            pred = my_knn.predict(my_pivot)\n",
    "            lst_loss.append(np.sqrt((np.array(pred - true_raiting)**2).sum() / len(pred))) \n",
    "            return np.sqrt((np.array(pred - true_raiting)**2).sum() / len(pred))\n",
    "        \n",
    "            left_border = right_border\n",
    "\n",
    "        return np.mean(np.array(lst_loss))"
   ]
  },
  {
   "cell_type": "code",
   "execution_count": 728,
   "id": "036bb951",
   "metadata": {},
   "outputs": [],
   "source": [
    "t = TestKNN(\"KNNWithMeans\", k=19, user_based=False)\n",
    "lst_loss = t.KFold_val(10)"
   ]
  },
  {
   "cell_type": "markdown",
   "id": "b2b12217",
   "metadata": {},
   "source": [
    "# Точность KNN по параметру k. "
   ]
  },
  {
   "cell_type": "code",
   "execution_count": 145,
   "id": "929d2cce",
   "metadata": {},
   "outputs": [],
   "source": [
    "import itertools"
   ]
  },
  {
   "cell_type": "code",
   "execution_count": 229,
   "id": "dc9e7961",
   "metadata": {
    "scrolled": false
   },
   "outputs": [
    {
     "name": "stderr",
     "output_type": "stream",
     "text": [
      "100%|██████████| 12/12 [02:23<00:00, 11.98s/it]\n",
      "100%|██████████| 12/12 [02:47<00:00, 13.94s/it]\n",
      "100%|██████████| 12/12 [02:30<00:00, 12.55s/it]\n",
      "100%|██████████| 12/12 [02:51<00:00, 14.27s/it]\n"
     ]
    },
    {
     "data": {
      "image/png": "[encoded data removed]",
      "text/plain": [
       "<Figure size 1440x1440 with 4 Axes>"
      ]
     },
     "metadata": {
      "needs_background": "light"
     },
     "output_type": "display_data"
    }
   ],
   "source": [
    "plt.rcParams.update({'font.size': 20})\n",
    "fig, axes = plt.subplots(2,2, figsize=(20,20), sharex=False, sharey=True)\n",
    "lst_time = []\n",
    "time = []\n",
    "k_max = 60\n",
    "for i,j in itertools.product(range(2),range(2)):\n",
    "        algo = \"KNNWithMeans\" if i == 0 else \"KNNBasic\"\n",
    "        user_based = True if j == 0 else False\n",
    "        \n",
    "        \n",
    "        lst_loss = []\n",
    "        for k in tqdm.trange(1,k_max,5):\n",
    "            \n",
    "            knn = KNNWithMeans(k=k,user_based=user_based) if i ==0 else KNNBasic(k=k, user_based=user_based)\n",
    "            knn.fit(new_df)\n",
    "            pred = knn.predict(my_pivot)\n",
    "\n",
    "            loss = np.sqrt((np.array(pred - true_raiting)**2).sum() / len(pred))\n",
    "            lst_loss.append(loss)\n",
    "\n",
    "\n",
    "        axes[i,j].plot(range(1,k_max,5), lst_loss, label=f\" Ошибка\", marker='o', color=\"green\")\n",
    "        title = algo + \" user_based\" if user_based else algo + \" item_based\"\n",
    "        axes[i,j].set_title(title)\n",
    "        axes[i,j].legend()\n",
    "\n",
    "        axes[i,j].set_xlabel(\"k\")\n",
    "        axes[i,j].set_ylabel(\"loss\")\n",
    "        \n"
   ]
  },
  {
   "cell_type": "code",
   "execution_count": null,
   "id": "1bd79a22",
   "metadata": {},
   "outputs": [],
   "source": [
    "\"\"\"\n",
    "В дальнейших экспериментах используем лучшие параметры.\n",
    "Для KNNBasic - 10 соседей, item_based. \n",
    "Для KNNWithMeans - 19 соседей, item_based.\n",
    "\"\"\""
   ]
  },
  {
   "cell_type": "markdown",
   "id": "dd51a5cd",
   "metadata": {},
   "source": [
    "# Качество SVD по числу эпох в SGD."
   ]
  },
  {
   "cell_type": "code",
   "execution_count": 251,
   "id": "f667b8bf",
   "metadata": {},
   "outputs": [
    {
     "name": "stderr",
     "output_type": "stream",
     "text": [
      "100%|██████████| 48/48 [04:21<00:00,  5.45s/it]\n"
     ]
    },
    {
     "data": {
      "text/plain": [
       "Text(0, 0.5, 'loss')"
      ]
     },
     "execution_count": 251,
     "metadata": {},
     "output_type": "execute_result"
    },
    {
     "data": {
      "image/png": "[encoded data removed]",
      "text/plain": [
       "<Figure size 1440x1440 with 1 Axes>"
      ]
     },
     "metadata": {
      "needs_background": "light"
     },
     "output_type": "display_data"
    }
   ],
   "source": [
    "plt.rcParams.update({'font.size': 20})\n",
    "fig, axes = plt.subplots(1,1, figsize=(20,20), sharex=False, sharey=True)\n",
    "lst_time = []\n",
    "time = []\n",
    "n_epochs = 50\n",
    "\n",
    "algo = \"SGD\" \n",
    "lst_loss = []\n",
    "for n in tqdm.trange(2,n_epochs,1):\n",
    "    svd=SVD(n_factors=2,n_epochs=n)\n",
    "\n",
    "    svd.fit(new_df)\n",
    "    pred = svd.predict(my_pivot)\n",
    "    loss = np.sqrt((np.array(pred - true_raiting)**2).sum() / len(pred))\n",
    "    lst_loss.append(loss)\n",
    "\n",
    "\n",
    "axes.plot(range(2,n_epochs,1), lst_loss, label=f\" Ошибка\", marker='o')\n",
    "\n",
    "axes.set_title(algo)\n",
    "axes.legend()\n",
    "\n",
    "axes.set_xlabel(\"n_epochs\")\n",
    "axes.set_ylabel(\"loss\")\n"
   ]
  },
  {
   "cell_type": "code",
   "execution_count": null,
   "id": "95613bae",
   "metadata": {},
   "outputs": [],
   "source": []
  },
  {
   "cell_type": "markdown",
   "id": "0dd96655",
   "metadata": {},
   "source": [
    "# Качество SVD по числу факторов."
   ]
  },
  {
   "cell_type": "code",
   "execution_count": 239,
   "id": "578ea96f",
   "metadata": {},
   "outputs": [
    {
     "name": "stderr",
     "output_type": "stream",
     "text": [
      "100%|██████████| 10/10 [00:46<00:00,  4.62s/it]\n",
      "100%|██████████| 10/10 [00:52<00:00,  5.25s/it]\n"
     ]
    },
    {
     "data": {
      "image/png": "[encoded data removed]",
      "text/plain": [
       "<Figure size 1440x1440 with 2 Axes>"
      ]
     },
     "metadata": {
      "needs_background": "light"
     },
     "output_type": "display_data"
    }
   ],
   "source": [
    "plt.rcParams.update({'font.size': 20})\n",
    "fig, axes = plt.subplots(1,2, figsize=(20,20), sharex=False, sharey=True)\n",
    "lst_time = []\n",
    "time = []\n",
    "n_factors_max = 20\n",
    "for i,j in itertools.product(range(1),range(2)):\n",
    "        algo = \"SGD\" if j == 0 else \"als\"\n",
    "        lst_loss = []\n",
    "        for n in tqdm.trange(1,n_factors_max,2):\n",
    "            svd=SVD(n_factors=n,n_epochs=20, method=algo)\n",
    "\n",
    "            svd.fit(new_df)\n",
    "            pred = svd.predict(my_pivot)\n",
    "            loss = np.sqrt((np.array(pred - true_raiting)**2).sum() / len(pred))\n",
    "            lst_loss.append(loss)\n",
    "\n",
    "\n",
    "        axes[j].plot(range(1,n_factors_max,2), lst_loss, label=f\" Ошибка\", marker='o')\n",
    "\n",
    "        axes[j].set_title(algo)\n",
    "        axes[j].legend()\n",
    "\n",
    "        axes[j].set_xlabel(\"n_factors\")\n",
    "        axes[j].set_ylabel(\"loss\")\n",
    "        \n"
   ]
  },
  {
   "cell_type": "markdown",
   "id": "936376d9",
   "metadata": {},
   "source": [
    "\n",
    "## Наблюдаем переобучение, с увеличением числа факторов\n"
   ]
  },
  {
   "cell_type": "code",
   "execution_count": null,
   "id": "2c373e20",
   "metadata": {},
   "outputs": [],
   "source": []
  },
  {
   "cell_type": "markdown",
   "id": "6f8ce50f",
   "metadata": {},
   "source": [
    "# Сравниваем ошибки алгоритмов и время работы"
   ]
  },
  {
   "cell_type": "code",
   "execution_count": 259,
   "id": "fb01b2b8",
   "metadata": {},
   "outputs": [],
   "source": [
    "import time"
   ]
  },
  {
   "cell_type": "code",
   "execution_count": 707,
   "id": "fd528885",
   "metadata": {},
   "outputs": [
    {
     "name": "stdout",
     "output_type": "stream",
     "text": [
      "loss KNNBasic 0.9977 time spent on validation 32.0392\n",
      "loss KNNWithMeans 0.934 time spent on validation 74.4537\n"
     ]
    }
   ],
   "source": [
    "\"\"\"\n",
    "Сравнение будем проводить с помощью KFold Validation, количество фолдов = 5\n",
    "\"\"\"\n",
    "\n",
    "for knn in [\"KNNBasic\", \"KNNWithMeans\"]:\n",
    "    start = time.time()\n",
    "    val = TestKNN(knn,k=19,user_based=False) if knn == \"KNNWithMeans\" else TestKNN(knn,k=10,user_based=False)\n",
    "    print(\"loss\",knn, round(val.KFold_val(5),4), \"time spent on validation\", round(time.time() - start, 4))"
   ]
  },
  {
   "cell_type": "code",
   "execution_count": 708,
   "id": "f323e066",
   "metadata": {},
   "outputs": [
    {
     "name": "stdout",
     "output_type": "stream",
     "text": [
      "loss SGD 0.9491 time spent on validation 22.142\n",
      "loss als 0.9477 time spent on validation 22.8931\n"
     ]
    }
   ],
   "source": [
    "\"\"\"\n",
    "Сравнение будем проводить с помощью KFold Validation, количество фолдов = 5\n",
    "\"\"\"\n",
    "for svd in [SVD(method=\"SGD\", n_epochs=5, n_factors=1), SVD(method=\"als\", n_epochs=5, n_factors=1)]:\n",
    "    start = time.time()\n",
    "    print(\"loss\",svd.method, round(svd.KFold_val(k=5),4), \"time spent on validation\", round(time.time() - start, 4))"
   ]
  },
  {
   "cell_type": "markdown",
   "id": "1ac2e10e",
   "metadata": {},
   "source": [
    "# Выводы\n",
    "## Получили весьма сходные с опубликованными результатами работы алгоритмов\n",
    "## SVD работает быстрее KNN. Качество SVD и KNNWithMeans сравнимо, и даже SVD проигрывает, что опять же согласуется с таблицей замеров на валидации с 5 фолдами на датасете ml-100k"
   ]
  },
  {
   "cell_type": "code",
   "execution_count": null,
   "id": "654a1865",
   "metadata": {},
   "outputs": [],
   "source": []
  },
  {
   "cell_type": "markdown",
   "id": "8ed43b71",
   "metadata": {},
   "source": [
    "# SVD++.\n",
    "## Следует отметить, что за счет добавления скрытых параметров количество параметров увеличивается на n_factors * |Items|. Поэтому следует использовать только n_factors = 1, иначе будет большое переобучение"
   ]
  },
  {
   "cell_type": "code",
   "execution_count": 684,
   "id": "9a26d74c",
   "metadata": {},
   "outputs": [],
   "source": [
    "class SVDpp:\n",
    "    def __init__(self, n_factors=1, n_epochs=10, lr=0.002,reg=0.0002,random_state=1):\n",
    "        self.n_epochs = n_epochs\n",
    "        self.n_factors = n_factors\n",
    "        self.reg = reg\n",
    "        self.random_state = random_state\n",
    "        self.lr=lr\n",
    "\n",
    "        \n",
    "    def sgd(self,df_train):\n",
    "        np.random.seed(1)\n",
    "        random.seed(1)\n",
    "        \n",
    "        RR = df_train.fillna(0).to_numpy()\n",
    "        mask = RR != 0\n",
    "        not_null = mask.sum()\n",
    "\n",
    "        P = np.random.random((RR.shape[0],self.n_factors))\n",
    "        Q = np.random.random((self.n_factors,RR.shape[1]))\n",
    "\n",
    "        us = np.random.random((RR.shape[0],1)) \n",
    "        it = np.random.random((1,RR.shape[1])) \n",
    "\n",
    "        mu = RR.sum().sum() / not_null\n",
    "        MU = np.ones_like(RR) * RR.sum() / not_null\n",
    "        \n",
    "        mask_yj = RR != 0\n",
    "        Iu = np.sqrt(mask_yj.sum(axis=1)) \n",
    "        \n",
    "        Y = np.random.random((RR.shape[1],self.n_factors)) \n",
    "        \n",
    "        for _ in range(self.n_epochs):\n",
    "            for k in range(not_null):\n",
    "                u = random.choice(range(RR.shape[0]))\n",
    "                i = random.choice(range(RR.shape[1]))\n",
    "                if RR[u,i] ==0:\n",
    "                    continue\n",
    "\n",
    "                sum_yj_u = ((Y.T @ (np.ones(RR.shape[1])*mask_yj[u]))).T\n",
    "\n",
    "                e_ui = RR[u,i] - (P[u] + sum_yj_u / Iu[u]) @ Q[:,i] - us[u,0] - it[0,i] - mu \n",
    "                P[u] = P[u] + self.lr*(e_ui*Q[:,i].T - self.reg*P[u])\n",
    "                e_ui = RR[u,i] - (P[u] + sum_yj_u / Iu[u]) @ Q[:,i] - us[u,0] - it[0,i] - mu  \n",
    "                Q[:,i] = Q[:,i] + self.lr*(e_ui*(P[u].T + sum_yj_u/Iu[u]) - self.reg*Q[:,i])\n",
    "                e_ui = RR[u,i] - (P[u] + sum_yj_u / Iu[u]) @ Q[:,i] - us[u,0] - it[0,i] - mu \n",
    "                us[u,0] = us[u,0] + self.lr * (e_ui - self.reg * us[u,0])\n",
    "                e_ui = RR[u,i] - (P[u] + sum_yj_u / Iu[u]) @ Q[:,i] - us[u,0] - it[0,i] - mu \n",
    "                it[0,i] = it[0,i] + self.lr * (e_ui - self.reg * it[0,i])\n",
    "                e_ui = RR[u,i] - (P[u] + sum_yj_u / Iu[u]) @ Q[:,i] - us[u,0] - it[0,i] - mu\n",
    "                Y = Y + 0.0001 * (e_ui*Q[:,i].T - self.reg*Y)\n",
    "\n",
    "                \n",
    "        U = us*np.ones_like(RR) \n",
    "        I = it*np.ones_like(RR) \n",
    "        self.Y = Y \n",
    "        self.mu = MU\n",
    "        self.P = P\n",
    "        self.Q = Q\n",
    "        self.I = I\n",
    "        self.U = U\n",
    "        self.Iu = Iu\n",
    "\n",
    "\n",
    "    def fit(self,df_train_):\n",
    "        np.random.seed(self.random_state)\n",
    "        df_train = df_train_.copy()\n",
    "        self.sgd(df_train)\n",
    "\n",
    "    \n",
    "    def predict(self,pivot_predict):\n",
    "        pivot = pivot_predict.copy()\n",
    "        pred = np.zeros(shape=len(pivot.index))\n",
    "        restored_R = self.mu + (self.P + (self.Y.T @ mask.T).T / self.Iu.reshape(-1,1))@ self.Q +self.I + self.U\n",
    "        \n",
    "        for i in range(len(pivot.index)):\n",
    "            user, item = list(map(int, list(pivot.iloc[i])))\n",
    "            \n",
    "            user -= 1\n",
    "            item -= 1\n",
    "            \n",
    "            pred[i] = restored_R[user,item]\n",
    "        return pred.clip(1,5)\n",
    "        \n"
   ]
  },
  {
   "cell_type": "markdown",
   "id": "39ef6c36",
   "metadata": {},
   "source": [
    "# Соответствующие эксперименты с SVD++"
   ]
  },
  {
   "cell_type": "code",
   "execution_count": 712,
   "id": "a96ccfdb",
   "metadata": {},
   "outputs": [],
   "source": [
    "start = time.time()\n",
    "svd = SVDpp(n_factors=1, n_epochs=200, lr=0.001)\n",
    "svd.fit(new_df)\n",
    "\n",
    "train_loss_200 = (((svd.mu + (svd.P + (svd.Y.T @ mask.T).T / Iu.reshape(-1,1))@ svd.Q +svd.I + svd.U -new_df.fillna(0).to_numpy()) * (new_df.fillna(0).to_numpy() !=0))**2).sum()/100000\n",
    "\n",
    "val_loss = ((svd.predict(my_pivot) - true_raiting)**2).sum() / 5000"
   ]
  },
  {
   "cell_type": "code",
   "execution_count": 713,
   "id": "71c544b4",
   "metadata": {},
   "outputs": [
    {
     "name": "stdout",
     "output_type": "stream",
     "text": [
      "spent time on n_epochs 80.4672691822052\n",
      "train_loss 0.8528160218471148\n",
      "val_loss 0.9611650501799343\n"
     ]
    }
   ],
   "source": [
    "print(\"spent time on n_epochs\", time.time() - start)\n",
    "print(\"train_loss\", train_loss_200)\n",
    "print(\"val_loss\", val_loss)"
   ]
  },
  {
   "cell_type": "code",
   "execution_count": 722,
   "id": "0187ce25",
   "metadata": {},
   "outputs": [],
   "source": [
    "start = time.time()\n",
    "svd = SVDpp(n_factors=1, n_epochs=300, lr=0.001)\n",
    "svd.fit(new_df)\n",
    "\n",
    "train_loss_500 = (((svd.mu + (svd.P + (svd.Y.T @ mask.T).T / Iu.reshape(-1,1))@ svd.Q +svd.I + svd.U -new_df.fillna(0).to_numpy()) * (new_df.fillna(0).to_numpy() !=0))**2).sum()/100000\n",
    "val_loss = ((svd.predict(my_pivot) - true_raiting)**2).sum() / 5000"
   ]
  },
  {
   "cell_type": "code",
   "execution_count": 723,
   "id": "acf46bb9",
   "metadata": {},
   "outputs": [
    {
     "name": "stdout",
     "output_type": "stream",
     "text": [
      "spent time on  300 120.87097930908203\n",
      "train_loss 0.8337442567369215\n",
      "val_loss 0.9458894467895234\n"
     ]
    }
   ],
   "source": [
    "print(\"spent time on \",300, time.time() - start)\n",
    "print(\"train_loss\", train_loss_500)\n",
    "print(\"val_loss\", val_loss)"
   ]
  },
  {
   "cell_type": "code",
   "execution_count": 724,
   "id": "3d4eec4a",
   "metadata": {},
   "outputs": [],
   "source": [
    "start = time.time()\n",
    "svd = SVDpp(n_factors=1, n_epochs=500, lr=0.001)\n",
    "svd.fit(new_df)\n",
    "\n",
    "train_loss_500 = (((svd.mu + (svd.P + (svd.Y.T @ mask.T).T / Iu.reshape(-1,1))@ svd.Q +svd.I + svd.U -new_df.fillna(0).to_numpy()) * (new_df.fillna(0).to_numpy() !=0))**2).sum()/100000\n",
    "val_loss = ((svd.predict(my_pivot) - true_raiting)**2).sum() / 5000"
   ]
  },
  {
   "cell_type": "code",
   "execution_count": 725,
   "id": "455a29eb",
   "metadata": {},
   "outputs": [
    {
     "name": "stdout",
     "output_type": "stream",
     "text": [
      "spent time on  500 200.6659905910492\n",
      "train_loss 0.8177916453836103\n",
      "val_loss 0.9289500215283526\n"
     ]
    }
   ],
   "source": [
    "print(\"spent time on \",500, time.time() - start)\n",
    "print(\"train_loss\", train_loss_500)\n",
    "print(\"val_loss\", val_loss)"
   ]
  },
  {
   "cell_type": "code",
   "execution_count": 726,
   "id": "dda407bb",
   "metadata": {},
   "outputs": [],
   "source": [
    "start = time.time()\n",
    "svd = SVDpp(n_factors=1, n_epochs=650, lr=0.001)\n",
    "svd.fit(new_df)\n",
    "\n",
    "train_loss_500 = (((svd.mu + (svd.P + (svd.Y.T @ mask.T).T / Iu.reshape(-1,1))@ svd.Q +svd.I + svd.U -new_df.fillna(0).to_numpy()) * (new_df.fillna(0).to_numpy() !=0))**2).sum()/100000\n",
    "val_loss = ((svd.predict(my_pivot) - true_raiting)**2).sum() / 5000"
   ]
  },
  {
   "cell_type": "code",
   "execution_count": 727,
   "id": "32143fc6",
   "metadata": {},
   "outputs": [
    {
     "name": "stdout",
     "output_type": "stream",
     "text": [
      "spent time on  500 259.67758893966675\n",
      "train_loss 0.8155530721894477\n",
      "val_loss 0.9285328098386857\n"
     ]
    }
   ],
   "source": [
    "print(\"spent time on \",650, time.time() - start)\n",
    "print(\"train_loss\", train_loss_500)\n",
    "print(\"val_loss\", val_loss)"
   ]
  },
  {
   "cell_type": "code",
   "execution_count": null,
   "id": "f6acace7",
   "metadata": {},
   "outputs": [],
   "source": []
  },
  {
   "cell_type": "markdown",
   "id": "6591d061",
   "metadata": {},
   "source": [
    "# SVD++ показывает достойные результаты (лучшие из рассмотренных ранее).\n",
    "## Ошибка на валидации при:\n",
    "## 200 эпохах - 0.96111\n",
    "## 300 эпохах - 0.94588\n",
    "## 500 эпохах - 0.92895\n",
    "## 650 эпохах - 0.92853\n",
    "## Однако время работы чрезмерно велико (приведено в соответствующих ячейках).\n",
    "## За счет того, что используем SGD, сходимость гораздо медленнее, чем ожидается при использовании батчей."
   ]
  },
  {
   "cell_type": "code",
   "execution_count": null,
   "id": "be6abba7",
   "metadata": {},
   "outputs": [],
   "source": []
  },
  {
   "cell_type": "code",
   "execution_count": null,
   "id": "39aa0e53",
   "metadata": {},
   "outputs": [],
   "source": []
  }
 ],
 "metadata": {
  "kernelspec": {
   "display_name": "Python 3 (ipykernel)",
   "language": "python",
   "name": "python3"
  },
  "language_info": {
   "codemirror_mode": {
    "name": "ipython",
    "version": 3
   },
   "file_extension": ".py",
   "mimetype": "text/x-python",
   "name": "python",
   "nbconvert_exporter": "python",
   "pygments_lexer": "ipython3",
   "version": "3.9.12"
  }
 },
 "nbformat": 4,
 "nbformat_minor": 5
}
