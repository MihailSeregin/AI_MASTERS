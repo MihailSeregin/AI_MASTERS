{
 "cells": [
  {
   "cell_type": "markdown",
   "id": "2e5127f2",
   "metadata": {
    "heading_collapsed": true
   },
   "source": [
    "# Автор: Серегин М.С."
   ]
  },
  {
   "cell_type": "code",
   "execution_count": 94,
   "id": "2f46d1af",
   "metadata": {
    "hidden": true
   },
   "outputs": [],
   "source": [
    "import pandas as pd\n",
    "import numpy as np\n",
    "import random\n",
    "import matplotlib.pyplot as plt\n",
    "import torch\n",
    "import tqdm\n",
    "from torch import nn\n",
    "import time\n",
    "from sklearn.model_selection import train_test_split\n",
    "import os\n",
    "import json\n",
    "import seaborn as sns"
   ]
  },
  {
   "cell_type": "markdown",
   "id": "4839434b",
   "metadata": {
    "heading_collapsed": true
   },
   "source": [
    "# SVD"
   ]
  },
  {
   "cell_type": "markdown",
   "id": "169e81ab",
   "metadata": {
    "hidden": true
   },
   "source": [
    "**В данном блоке реализованную модель SVD придется модифицировать.**\n",
    "\n",
    "Для пользователей, которые проставили рейтинг меньше, чем 6 фильмам ответом будет среднее значение + смещение для фильма. "
   ]
  },
  {
   "cell_type": "code",
   "execution_count": 2,
   "id": "1acc1a9f",
   "metadata": {
    "hidden": true
   },
   "outputs": [],
   "source": [
    "class SVD:\n",
    "    def __init__(self,method=\"SGD\", n_factors=5, n_epochs=10,\n",
    "                 lr=0.001,reg=0.02,random_state=1, imediatly_take=1000, cut_k=6):\n",
    "        self.method = method\n",
    "        self.n_epochs = n_epochs\n",
    "        self.n_factors = n_factors\n",
    "        self.reg = reg\n",
    "        self.random_state = random_state\n",
    "        self.lr=lr\n",
    "        self.im_take = imediatly_take\n",
    "        self.cut_k = cut_k\n",
    "    \n",
    "    \n",
    "    def _sgd(self,df_pivot_, n_users=104563, n_items=7519): \n",
    "\n",
    "        df_pivot = df_pivot_.copy()\n",
    "        df_pivot.columns = [[\"user\",\"item\",\"rating\"]]\n",
    "\n",
    "\n",
    "        P = np.random.random((n_users,self.n_factors)) * 0.0000001\n",
    "        Q = np.random.random((self.n_factors,n_items)) * 0.0000001\n",
    "\n",
    "        \n",
    "        \n",
    "        us = np.random.random(n_users) * 0.0000001\n",
    "        it = np.random.random(n_items) * 0.0000001\n",
    "\n",
    "        mu = float(df_pivot.rating.mean())\n",
    "        \n",
    "        df_pivot.index = range(len(df_pivot))\n",
    "        seq_to_choose = df_pivot.index\n",
    "        \n",
    "        tmp = df_pivot_.groupby(by=\"user_id\").count()\n",
    "        mask = np.array((tmp < self.cut_k).item_id)\n",
    "        self.not_pred = np.array(tmp.index)[mask]\n",
    "   \n",
    "        \n",
    "        for _ in range(self.n_epochs):\n",
    "            for _ in range(len(df_pivot.index)//self.im_take):\n",
    "                \n",
    "\n",
    "                ind_raw_us = np.random.choice(seq_to_choose, size=self.im_take*3,replace=False)\n",
    "                m_ = df_pivot.loc[ind_raw_us][[\"user\",\"item\",\"rating\"]]\n",
    "\n",
    "                user = np.array(m_.user).reshape(-1)\n",
    "                item = np.array(m_.item).reshape(-1)\n",
    "                rating = np.array(m_.rating).reshape(-1)\n",
    "    \n",
    "                r_hat = mu + us[user] + it[item] + np.sum(P[user,:].T * Q[:,item],axis=0)\n",
    "                error = (rating - r_hat)\n",
    "\n",
    "                us[user] = us[user] + self.lr * (error - self.reg * us[user])\n",
    "\n",
    "                r_hat = mu + us[user] + it[item] + np.diag(P[user,:] @ Q[:,item])\n",
    "                error = (rating - r_hat)\n",
    "                it[item] = it[item] + self.lr * (error - self.reg * it[item])\n",
    "\n",
    "                r_hat = mu + us[user] + it[item] + np.sum(P[user,:].T * Q[:,item],axis=0)\n",
    "                error = (rating - r_hat)\n",
    "                P[user,:] = P[user,:] + self.lr * (error.reshape(-1,1) * Q[:,item].T -self.reg * P[user,:])\n",
    "\n",
    "\n",
    "                item, idx_item = np.unique(item, return_index=True)\n",
    "                user = user[idx_item]\n",
    "                rating = rating[idx_item]\n",
    "\n",
    "                r_hat = mu + us[user] + it[item] + np.sum(P[user,:].T * Q[:,item],axis=0)\n",
    "                error = (rating - r_hat)\n",
    "                Q[:,item] = Q[:,item] + self.lr * (error * P[user,:].T - self.reg * Q[:,item])\n",
    "                \n",
    "            if _ == 5:\n",
    "                self.lr /= 10\n",
    "                self.reg /= 10\n",
    "         \n",
    "  \n",
    "   \n",
    "        self.mu = mu\n",
    "        self.P = P\n",
    "        self.Q = Q\n",
    "        self.it = it\n",
    "        self.us = us\n",
    "        \n",
    "        self.zero_parameters(self.not_pred)\n",
    "        \n",
    "        \n",
    "    def zero_parameters(self,arr_us_delete):\n",
    "        self.P[arr_us_delete,:] = 0\n",
    "        self.us[arr_us_delete] = 0\n",
    "    \n",
    "\n",
    "\n",
    "    def fit(self,df_train_):\n",
    "        np.random.seed(self.random_state)\n",
    "        df_train = df_train_.copy()\n",
    "        if self.method == \"SGD\":\n",
    "            self._sgd(df_train)\n",
    "        else:\n",
    "            self._als(df_train)\n",
    "\n",
    "    def predict(self,pivot_predict):\n",
    "        pivot = pivot_predict.copy()\n",
    "        pred = np.zeros(shape=len(pivot.index))\n",
    "\n",
    "        for i in range(len(pivot.index)):\n",
    "            user, item = list(map(int, list(pivot.iloc[i])))\n",
    "            \n",
    "\n",
    "            pred[i] = self.mu + self.us[user] + self.it[item] + self.P[user,:] @ self.Q[:,item]\n",
    "        return pred     "
   ]
  },
  {
   "cell_type": "code",
   "execution_count": null,
   "id": "c5ad6403",
   "metadata": {
    "hidden": true
   },
   "outputs": [],
   "source": []
  },
  {
   "cell_type": "markdown",
   "id": "69795f85",
   "metadata": {
    "hidden": true
   },
   "source": [
    "### Обработка данных\n",
    "\n"
   ]
  },
  {
   "cell_type": "code",
   "execution_count": 132,
   "id": "eed84c1f",
   "metadata": {
    "hidden": true
   },
   "outputs": [],
   "source": [
    "df = pd.read_csv(\"ratings.csv\")"
   ]
  },
  {
   "cell_type": "code",
   "execution_count": 133,
   "id": "aa425268",
   "metadata": {
    "hidden": true
   },
   "outputs": [],
   "source": [
    "replace_users = dict(zip(df.user_uid.unique(), np.arange(104563)))"
   ]
  },
  {
   "cell_type": "code",
   "execution_count": 134,
   "id": "d8d9b31d",
   "metadata": {
    "hidden": true
   },
   "outputs": [],
   "source": [
    "replace_items = dict(zip(df.element_uid.unique(), np.arange(7519)))"
   ]
  },
  {
   "cell_type": "code",
   "execution_count": 135,
   "id": "699dc274",
   "metadata": {
    "hidden": true
   },
   "outputs": [],
   "source": [
    "df[\"user_id\"] = df.user_uid.apply(lambda x: replace_users[x])"
   ]
  },
  {
   "cell_type": "code",
   "execution_count": 136,
   "id": "c7a56f86",
   "metadata": {
    "hidden": true
   },
   "outputs": [],
   "source": [
    "df[\"item_id\"] = df.element_uid.apply(lambda x:replace_items[x])"
   ]
  },
  {
   "cell_type": "code",
   "execution_count": 137,
   "id": "9ba163b1",
   "metadata": {
    "hidden": true
   },
   "outputs": [],
   "source": [
    "df = df.drop([\"user_uid\", \"element_uid\"], axis=1)"
   ]
  },
  {
   "cell_type": "code",
   "execution_count": 138,
   "id": "7a199b64",
   "metadata": {
    "hidden": true
   },
   "outputs": [],
   "source": [
    "df.drop(\"ts\",axis=1,inplace=True)"
   ]
  },
  {
   "cell_type": "code",
   "execution_count": 139,
   "id": "12f061a5",
   "metadata": {
    "hidden": true
   },
   "outputs": [],
   "source": [
    "df = df[[\"user_id\",\"item_id\",\"rating\"]]"
   ]
  },
  {
   "cell_type": "code",
   "execution_count": 140,
   "id": "3cddcc70",
   "metadata": {
    "hidden": true
   },
   "outputs": [],
   "source": [
    "mean, std = df.rating.mean(), df.rating.std()\n",
    "df.rating = (df.rating - mean)/std"
   ]
  },
  {
   "cell_type": "code",
   "execution_count": 141,
   "id": "f8ead81a",
   "metadata": {
    "hidden": true
   },
   "outputs": [],
   "source": [
    "spl_fold, dataset3 = train_test_split(df,test_size=0.33)"
   ]
  },
  {
   "cell_type": "code",
   "execution_count": 142,
   "id": "c7268515",
   "metadata": {
    "hidden": true
   },
   "outputs": [],
   "source": [
    "dataset1, dataset2 = train_test_split(spl_fold, test_size=0.5)"
   ]
  },
  {
   "cell_type": "code",
   "execution_count": 143,
   "id": "ea62fd61",
   "metadata": {
    "hidden": true
   },
   "outputs": [],
   "source": [
    "dct_datasets = {1:dataset1, 2:dataset2, 3:dataset3}"
   ]
  },
  {
   "cell_type": "code",
   "execution_count": 144,
   "id": "fb04dda1",
   "metadata": {
    "hidden": true
   },
   "outputs": [
    {
     "name": "stdout",
     "output_type": "stream",
     "text": [
      "Выдавая в качестве ответа среднее, ошибка составит: 2.0745472671203813\n"
     ]
    }
   ],
   "source": [
    "print(\"Выдавая в качестве ответа среднее, ошибка составит:\",\n",
    "      np.sqrt(((((np.array(df.rating)*std)+mean) - mean)**2).mean())) # в качестве бейзлайна возьем среднее"
   ]
  },
  {
   "cell_type": "markdown",
   "id": "d2fa50c7",
   "metadata": {
    "hidden": true
   },
   "source": [
    "### SVD\n",
    "### Получение матриц признаков и ошибок на валидационном датасете"
   ]
  },
  {
   "cell_type": "markdown",
   "id": "48922db0",
   "metadata": {
    "hidden": true
   },
   "source": [
    "В данном блоке запустим алгоритм SVD с различным числом латентных факторов, для каждого фолда сохраним P,Q,bu,bi"
   ]
  },
  {
   "cell_type": "code",
   "execution_count": 20,
   "id": "44db71df",
   "metadata": {
    "hidden": true
   },
   "outputs": [],
   "source": [
    "def rmse_svd(model,dataset,):\n",
    "    pred = np.clip((model.predict(dataset[[\"user_id\", \"item_id\"]]) * std) + mean,0,10)\n",
    "    true = (dataset.rating * std) + mean\n",
    "    return np.sqrt(((pred-true)**2).mean())"
   ]
  },
  {
   "cell_type": "code",
   "execution_count": 21,
   "id": "75f4b2f9",
   "metadata": {
    "hidden": true
   },
   "outputs": [
    {
     "name": "stderr",
     "output_type": "stream",
     "text": [
      "\r",
      "  0%|          | 0/3 [00:00<?, ?it/s]"
     ]
    },
    {
     "name": "stdout",
     "output_type": "stream",
     "text": [
      "8/1, 1.8662181140404648\n",
      "8/2, 1.8604736672228914\n"
     ]
    },
    {
     "name": "stderr",
     "output_type": "stream",
     "text": [
      "\r",
      " 33%|███▎      | 1/3 [12:23<24:46, 743.29s/it]"
     ]
    },
    {
     "name": "stdout",
     "output_type": "stream",
     "text": [
      "8/3, 1.8658996852680367\n",
      "10/1, 1.8664525891474544\n",
      "10/2, 1.8605454363908591\n"
     ]
    },
    {
     "name": "stderr",
     "output_type": "stream",
     "text": [
      "\r",
      " 67%|██████▋   | 2/3 [22:14<10:53, 653.91s/it]"
     ]
    },
    {
     "name": "stdout",
     "output_type": "stream",
     "text": [
      "10/3, 1.8660034997923334\n",
      "12/1, 1.866321122635173\n",
      "12/2, 1.8624570278467185\n"
     ]
    },
    {
     "name": "stderr",
     "output_type": "stream",
     "text": [
      "100%|██████████| 3/3 [31:56<00:00, 638.87s/it]"
     ]
    },
    {
     "name": "stdout",
     "output_type": "stream",
     "text": [
      "12/3, 1.8659789416510089\n"
     ]
    },
    {
     "name": "stderr",
     "output_type": "stream",
     "text": [
      "\n"
     ]
    }
   ],
   "source": [
    "id_data = [1,2,3]\n",
    "loss_dct = {8:{\"train\":[],\"test\":[]},\n",
    "            10:{\"train\":[],\"test\":[]},\n",
    "            12:{\"train\":[],\"test\":[]}}\n",
    "\n",
    "parameters_dct = {8:{\"parameters\":[]},\n",
    "                 10:{\"parameters\":[]},\n",
    "                 12:{\"parameters\":[]}}\n",
    "\n",
    "for factors in tqdm.tqdm([8,10,12]):\n",
    "    for id_dataset in [1,2,3]:\n",
    "        id_data.remove(id_dataset)\n",
    "        train_dataset = pd.concat((dct_datasets[id_data[0]],dct_datasets[id_data[1]]))\n",
    "        test_dataset = dct_datasets[id_dataset]\n",
    "        \n",
    "        svd = SVD(method='SGD',\n",
    "            n_factors=factors,\n",
    "            n_epochs=20,\n",
    "            lr=0.05,\n",
    "            reg=0.2, imediatly_take=300,cut_k=6\n",
    "                 )\n",
    "\n",
    "        svd.fit(train_dataset)\n",
    "        \n",
    "        loss_train = rmse_svd(svd, train_dataset)\n",
    "        loss_test = rmse_svd(svd, test_dataset)\n",
    "        \n",
    "        loss_dct[factors][\"train\"].append(loss_train)\n",
    "        loss_dct[factors][\"test\"].append(loss_test)\n",
    "        print(f\"{factors}/{id_dataset}, {loss_test}\")\n",
    "        \n",
    "        parameters_dct[factors][\"parameters\"].append([svd.P, svd.Q, svd.us, svd.it])\n",
    "        id_data=[1,2,3]"
   ]
  },
  {
   "cell_type": "code",
   "execution_count": null,
   "id": "e1cece32",
   "metadata": {
    "hidden": true
   },
   "outputs": [],
   "source": []
  },
  {
   "cell_type": "markdown",
   "id": "390c017c",
   "metadata": {
    "heading_collapsed": true
   },
   "source": [
    "# NEUMF\n",
    "\n"
   ]
  },
  {
   "cell_type": "markdown",
   "id": "ae3af8c2",
   "metadata": {
    "hidden": true
   },
   "source": [
    "**Алгоритм взят из предыдущей домашней работы. В нем содержатся два блока, один из которых GMF.**"
   ]
  },
  {
   "cell_type": "code",
   "execution_count": 22,
   "id": "e3e0bd59",
   "metadata": {
    "hidden": true
   },
   "outputs": [],
   "source": [
    "class Dataset(torch.utils.data.Dataset):\n",
    "    \n",
    "    def __init__(self, df):\n",
    "        self.df = df\n",
    "        \n",
    "    def __len__(self):\n",
    "        return len(self.df)\n",
    "    \n",
    "    def __getitem__(self, idx):\n",
    "        user_id, item_id, rating = self.df.iloc[idx]\n",
    "        user_id = int(user_id)\n",
    "        item_id = int(item_id)\n",
    "        return [user_id,item_id], rating"
   ]
  },
  {
   "cell_type": "code",
   "execution_count": 66,
   "id": "d0882ec6",
   "metadata": {
    "hidden": true
   },
   "outputs": [],
   "source": [
    "class NNBlock(nn.Module):\n",
    "    def __init__(self,in_features, out_features, fn_act=nn.GELU, batch_norm=False,p_drop_out=0.3):\n",
    "        super().__init__()\n",
    "        self.out_features = out_features\n",
    "        \n",
    "        self.linear1 = nn.Linear(in_features, out_features)\n",
    "        self.act = fn_act()\n",
    "        self.batch_norm = nn.BatchNorm1d(out_features) if batch_norm else nn.Identity()\n",
    "        self.drop = nn.Dropout(p_drop_out) \n",
    "        \n",
    "        \n",
    "    def forward(self,x):\n",
    "        out = self.linear1(x)\n",
    "        out = self.act(out)\n",
    "        out = self.batch_norm(out)        \n",
    "        out = self.drop(out)\n",
    "        return out\n",
    "        \n",
    "\n",
    "class Skip_module(nn.Module):\n",
    "    def __init__(self,in_features, out_features,fn_act=nn.ReLU):\n",
    "        super().__init__()\n",
    "        self.linear = nn.Linear(in_features, out_features)\n",
    "        self.act = fn_act()\n",
    "        \n",
    "        \n",
    "    def forward(self,x):\n",
    "        out = self.linear(x)\n",
    "        return self.act(out)"
   ]
  },
  {
   "cell_type": "code",
   "execution_count": 67,
   "id": "2bbef72a",
   "metadata": {
    "hidden": true
   },
   "outputs": [],
   "source": [
    "class MLP_up(nn.Module):\n",
    "    def __init__(self,latent_factors,amount_layers=4,fn_act=nn.GELU, base_multiply=1, p_dropout=0.3,batch_norm=False, skip=False):\n",
    "        super().__init__()\n",
    "\n",
    " \n",
    "\n",
    "        lt_f = latent_factors\n",
    "        self.skip_indicator = 1. if skip else 0.\n",
    "        \n",
    "        self.block1 = NNBlock(lt_f*2+2, lt_f*2*base_multiply,fn_act, batch_norm, p_dropout)\n",
    "        \n",
    "        self.block2 = NNBlock(self.block1.out_features, self.block1.out_features*base_multiply,\n",
    "                               fn_act, batch_norm, p_dropout) if amount_layers > 1 else nn.Identity()\n",
    "        \n",
    "        self.block3 = NNBlock(self.block2.out_features, self.block2.out_features*base_multiply,\n",
    "                               fn_act, batch_norm, p_dropout) if amount_layers > 2 else nn.Identity()\n",
    "        \n",
    "        self.block4 = NNBlock(self.block3.out_features, self.block3.out_features*2,\n",
    "                               fn_act, batch_norm, p_dropout) if amount_layers > 3 else nn.Identity()\n",
    "        \n",
    "        self.out_features = lt_f*2*(base_multiply**amount_layers)\n",
    "        \n",
    "\n",
    "        \n",
    "        self.skip_concat_to_block4 = Skip_module(lt_f*2+2,self.block3.out_features) if amount_layers > 2 else nn.Identity()\n",
    "        \n",
    "    \n",
    "\n",
    "    def forward(self,emb_us, emb_it):\n",
    "\n",
    "        \n",
    "        concat_vec = torch.concat((emb_us, emb_it),dim=1)\n",
    "        \n",
    "        out1 = self.block1(concat_vec) # 32 при основании 2\n",
    "        out2 = self.block2(out1) # 64\n",
    "        out3 = self.block3(out2) + self.skip_concat_to_block4(concat_vec) *self.skip_indicator if self.skip_indicator > 0 else self.block3(out2)\n",
    "        out4 = self.block4(out3) # 256\n",
    "\n",
    "        \n",
    "        return out4"
   ]
  },
  {
   "cell_type": "code",
   "execution_count": 68,
   "id": "fdb98ea4",
   "metadata": {
    "hidden": true
   },
   "outputs": [],
   "source": [
    "class GMF(nn.Module):\n",
    "    def __init__(self, latent_factors,out_features=None,fn_act=nn.GELU, # out_features увеличили в два раза\n",
    "                  base_multiply=2, p_dropout=0.3,batch_norm=False, skip=True):\n",
    "        super().__init__()\n",
    "        self.out_features = latent_factors+2 \n",
    "        self.latent_factors = latent_factors\n",
    "        self.block1 = NNBlock(self.latent_factors+2, self.latent_factors+2,fn_act=nn.GELU, batch_norm=False,p_drop_out=p_dropout)\n",
    "        self.block2 = NNBlock(self.latent_factors+2,latent_factors+2 ,fn_act=nn.GELU, batch_norm=False,p_drop_out=p_dropout) # 32\n",
    "\n",
    "    def forward(self,bu_, bi_, pu_, qi_):\n",
    "        \n",
    "        mul = pu_ * qi_ # point-wise multiplying\n",
    "        x = torch.concat((mul, bu_, bi_),dim=1)\n",
    "        out = self.block1(x)\n",
    "        out = self.block2(out)\n",
    "        \n",
    "        return out\n",
    "        \n",
    "        \n",
    "        "
   ]
  },
  {
   "cell_type": "code",
   "execution_count": 69,
   "id": "1c8ca413",
   "metadata": {
    "hidden": true
   },
   "outputs": [],
   "source": [
    "class NCF(nn.Module):\n",
    "    def __init__(self,latent_factors=8,):\n",
    "        super().__init__()\n",
    "\n",
    "        self.latent_factors = latent_factors\n",
    "\n",
    "\n",
    "        self.MLPblock = MLP_up(latent_factors=latent_factors,amount_layers=1)\n",
    "        self.GMFblock = GMF(latent_factors=latent_factors)\n",
    "     \n",
    "\n",
    "        self.last_layer = nn.Linear(self.GMFblock.out_features + self.MLPblock.out_features, 1)\n",
    "        \n",
    "    def embedding(self,x):\n",
    "        \n",
    "\n",
    "        bu_ = torch.tensor([bu[x[0]]]).view(-1,1).float()\n",
    "        bi_ = torch.tensor([bi[x[1]]]).view(-1,1).float()\n",
    "        pu_ = torch.tensor(pu[x[0]]).float()\n",
    "        qi_ = torch.tensor(qi[x[1]]).float()\n",
    "    \n",
    "    \n",
    "        \n",
    "        return bu_, bi_, pu_, qi_\n",
    "    \n",
    "    def forward(self,x):\n",
    "        \n",
    "        bu_, bi_, pu_, qi_  = self.embedding(x)\n",
    "        \n",
    "        svd_us = torch.concat((bu_,pu_),dim=1).float()\n",
    "        svd_it = torch.concat((bi_,qi_),dim=1).float()\n",
    "\n",
    "        \n",
    "        mlp_res = self.MLPblock(svd_us, svd_it) # 256\n",
    "        gmf_res = self.GMFblock(bu_, bi_, pu_, qi_) # 32\n",
    "       \n",
    "        concat_vec = torch.concat((mlp_res, gmf_res),dim=1) # 256 + 32\n",
    "        \n",
    "        out = self.last_layer(concat_vec)\n",
    "        \n",
    "        return out\n",
    " "
   ]
  },
  {
   "cell_type": "code",
   "execution_count": 70,
   "id": "f35b5dcb",
   "metadata": {
    "hidden": true
   },
   "outputs": [],
   "source": [
    "def perform_epoch(model, loader, criterion, \n",
    "                optimizer=None):\n",
    "    is_train = optimizer is not None\n",
    "\n",
    "    if is_train:  \n",
    "        model.train()\n",
    "    else:\n",
    "        model.eval()\n",
    "\n",
    "    total_loss = 0\n",
    "    total_n = 0\n",
    "    with EmptyContext() if is_train else torch.no_grad():\n",
    "        for batch_data, batch_labels in (loader):\n",
    "            model_labels = model(batch_data).view(-1).float()\n",
    " \n",
    "\n",
    "            new_loss = criterion(model_labels, batch_labels.float())\n",
    "            if is_train:\n",
    "              optimizer.zero_grad()\n",
    "              new_loss.backward()\n",
    "              optimizer.step() \n",
    "\n",
    "            one_batch_loss = float(criterion((model_labels*std)+mean, (batch_labels*std)+mean))\n",
    "\n",
    "            \n",
    "            total_loss += one_batch_loss\n",
    "            total_n += 1 \n",
    "    return total_loss / total_n "
   ]
  },
  {
   "cell_type": "code",
   "execution_count": 71,
   "id": "793443d1",
   "metadata": {
    "hidden": true
   },
   "outputs": [],
   "source": [
    "class EmptyContext:\n",
    "    def __enter__(self):\n",
    "        pass\n",
    "    \n",
    "    def __exit__(self, *args):\n",
    "        pass"
   ]
  },
  {
   "cell_type": "code",
   "execution_count": 72,
   "id": "3a55a051",
   "metadata": {
    "hidden": true
   },
   "outputs": [],
   "source": [
    "def validate(model,train_dataloader, val_dataloader, n_epochs=5):\n",
    "    loss_fn = nn.MSELoss()\n",
    "     \n",
    "    optimizer = torch.optim.Adam(model.parameters(), lr=0.01)\n",
    "    lst_err = []\n",
    "    start_time = time.time()\n",
    "    for epoch in tqdm.tqdm(range(n_epochs)):\n",
    "        train_loss = perform_epoch(model,train_dataloader,loss_fn,optimizer,)\n",
    "        val_loss = perform_epoch(model,val_dataloader,loss_fn,None)\n",
    "        lst_err.append([np.sqrt(train_loss), np.sqrt(val_loss)])\n",
    "\n",
    "\n",
    "\n",
    "    finish_time = time.time()\n",
    "    spent_time = finish_time - start_time\n",
    "        \n",
    "    return lst_err, spent_time "
   ]
  },
  {
   "cell_type": "markdown",
   "id": "4e8d6a6e",
   "metadata": {
    "hidden": true
   },
   "source": [
    "**Валидация NeuMF**"
   ]
  },
  {
   "cell_type": "code",
   "execution_count": 145,
   "id": "ac3bb398",
   "metadata": {
    "hidden": true
   },
   "outputs": [
    {
     "name": "stderr",
     "output_type": "stream",
     "text": [
      "100%|██████████| 10/10 [04:27<00:00, 26.79s/it]\n"
     ]
    },
    {
     "name": "stdout",
     "output_type": "stream",
     "text": [
      "8/1,1.8639729092306863\n"
     ]
    },
    {
     "name": "stderr",
     "output_type": "stream",
     "text": [
      "100%|██████████| 10/10 [04:24<00:00, 26.49s/it]\n"
     ]
    },
    {
     "name": "stdout",
     "output_type": "stream",
     "text": [
      "8/2,1.8666284065537857\n"
     ]
    },
    {
     "name": "stderr",
     "output_type": "stream",
     "text": [
      "100%|██████████| 10/10 [04:25<00:00, 26.51s/it]\n"
     ]
    },
    {
     "name": "stdout",
     "output_type": "stream",
     "text": [
      "8/3,1.8539246479239098\n"
     ]
    },
    {
     "name": "stderr",
     "output_type": "stream",
     "text": [
      "100%|██████████| 10/10 [04:29<00:00, 26.91s/it]\n"
     ]
    },
    {
     "name": "stdout",
     "output_type": "stream",
     "text": [
      "10/1,1.8633828551862623\n"
     ]
    },
    {
     "name": "stderr",
     "output_type": "stream",
     "text": [
      "100%|██████████| 10/10 [04:37<00:00, 27.72s/it]\n"
     ]
    },
    {
     "name": "stdout",
     "output_type": "stream",
     "text": [
      "10/2,1.8662370421162409\n"
     ]
    },
    {
     "name": "stderr",
     "output_type": "stream",
     "text": [
      "100%|██████████| 10/10 [05:01<00:00, 30.19s/it]\n"
     ]
    },
    {
     "name": "stdout",
     "output_type": "stream",
     "text": [
      "10/3,1.851568606841232\n"
     ]
    },
    {
     "name": "stderr",
     "output_type": "stream",
     "text": [
      "100%|██████████| 10/10 [04:43<00:00, 28.33s/it]\n"
     ]
    },
    {
     "name": "stdout",
     "output_type": "stream",
     "text": [
      "12/1,1.8647406449914676\n"
     ]
    },
    {
     "name": "stderr",
     "output_type": "stream",
     "text": [
      "100%|██████████| 10/10 [04:32<00:00, 27.20s/it]\n"
     ]
    },
    {
     "name": "stdout",
     "output_type": "stream",
     "text": [
      "12/2,1.8651720887123737\n"
     ]
    },
    {
     "name": "stderr",
     "output_type": "stream",
     "text": [
      "100%|██████████| 10/10 [04:42<00:00, 28.27s/it]"
     ]
    },
    {
     "name": "stdout",
     "output_type": "stream",
     "text": [
      "12/3,1.8516693719577142\n"
     ]
    },
    {
     "name": "stderr",
     "output_type": "stream",
     "text": [
      "\n"
     ]
    }
   ],
   "source": [
    "l = [1,2,3]\n",
    "dct_ncf = {8:[],10:[],12:[]}\n",
    "for factor in [8,10,12]:\n",
    "    for i in [1,2,3]:\n",
    "        l.remove(i)\n",
    "        train_dataset = Dataset(pd.concat((dct_datasets[l[0]],dct_datasets[l[1]])))\n",
    "        val_dataset = Dataset(dct_datasets[i])\n",
    "\n",
    "        train_dataloader = torch.utils.data.DataLoader(train_dataset,batch_size=256,drop_last=True,shuffle=True)\n",
    "        val_dataloader = torch.utils.data.DataLoader(val_dataset,batch_size=1024)\n",
    "\n",
    "        bu = parameters_dct[factor][\"parameters\"][i-1][2]\n",
    "        bi = parameters_dct[factor][\"parameters\"][i-1][3]\n",
    "        qi = parameters_dct[factor][\"parameters\"][i-1][1].T\n",
    "        pu = parameters_dct[factor][\"parameters\"][i-1][0]\n",
    "\n",
    "\n",
    "        model = NCF(latent_factors=factor)\n",
    "        errors, _ = validate(model, train_dataloader, val_dataloader, n_epochs=10)\n",
    "        \n",
    "        er = min(np.array(errors)[:,1])\n",
    "        dct_ncf[factor].append(er)\n",
    "        print(f\"{factor}/{i},{er}\")\n",
    "\n",
    "        l = [1,2,3]"
   ]
  },
  {
   "cell_type": "code",
   "execution_count": null,
   "id": "6f04508d",
   "metadata": {
    "hidden": true
   },
   "outputs": [],
   "source": []
  },
  {
   "cell_type": "markdown",
   "id": "8b76521e",
   "metadata": {
    "heading_collapsed": true
   },
   "source": [
    "# Гибридная архитектура\n"
   ]
  },
  {
   "cell_type": "markdown",
   "id": "f53ae038",
   "metadata": {
    "hidden": true
   },
   "source": [
    "**Повторим предыдущий алгоритм, добавив к нему слой учитывающий контентные признаки.**\n",
    "\n",
    "В качестве контентных признаков для фильмов из catalogue взяты features_2,  features_4. \n",
    "\n",
    "Также были использованы данные о фильмах, добавленных пользователем в запомненное. А именно, для каждого пользователя, который поместил более 2 фильмов (в целях робастности) в запомненное, возьмем среднее скрытое представление этих фильмов. Таким образом, получится вектор, который показывает, какие \"в среднем\" фильмы пользователь добавляет в запомненное. \n",
    "\n",
    "Отмечу недостаток такого подхода. Здесь в качестве допущения принимается утверждение о том, что близкие фильмы обладают близкими значениями Q_i, тогда при усреднении получится вектор похожий на них. Однако вектора из матрицы Q не обязаны обладать этим свойством ,как в алгоритме word2vec. С другой стороны, если два фильма, добавленных в запомненное сильно отличаются, тогда при усреднении получится \"фильм\", который вообще на них не похож. Например, добавив боевик и мультфильм в запомненное, при их усреднении может получится неадекватный вектор. \n",
    "\n",
    "Можно было бы рассмотреть подход, при котором строятся новые скрытые представления для фильмов. А именно, фильмы которые один пользователь добавил в запомненное должны быть близки с точки зрения метрики. Тогда можно для каждого пользователя проходится по множеству фильмов, добавленных в запомненное, уменьшать между ними расстояние с помощью нейросети. Сделая, это для каждого пользователя, мы получим вектора, характеризующие фильмы такие, что фильмы, которые пользователи часто добавляют вместе в запомненное будут близки. "
   ]
  },
  {
   "cell_type": "markdown",
   "id": "0bfe08a8",
   "metadata": {
    "hidden": true
   },
   "source": [
    "**Реализуем два подхода к построению гибридной архитектуры:**\n",
    "1. Контентные признаки будут иметь собственные слои, результирующий вектор которых будет стыковаться к векторам из GMF, MLP.\n",
    "2. Контентные признаки не будут иметь собственного блока, а будут входить в качестве дополнительных признаков вектора, подающегося на вход MLP"
   ]
  },
  {
   "cell_type": "markdown",
   "id": "8442dd7e",
   "metadata": {
    "hidden": true
   },
   "source": [
    "**1. В данной модели контентые признаки располагаются ближе к концу сети и имеют собственные слои.**"
   ]
  },
  {
   "cell_type": "code",
   "execution_count": null,
   "id": "90288d88",
   "metadata": {
    "hidden": true
   },
   "outputs": [],
   "source": [
    "class CBlock(nn.Module):\n",
    "    \"\"\"\n",
    "    Блок на вход принимает контентные признаки.\n",
    "    \"\"\"\n",
    "    def __init__(self,latent_factors,it_features):\n",
    "        super().__init__()\n",
    "        input_features = latent_factors + it_features\n",
    "        \n",
    "        self.out_features = input_features + 2\n",
    "        self.linear1 = nn.Linear(input_features, self.out_features)\n",
    "        self.gelu1 = nn.GELU()\n",
    "        \n",
    "    def forward(self,us_content,it_content):\n",
    "        x = torch.concat((us_content,it_content),dim=1)\n",
    "        \n",
    "        out = self.gelu1(self.linear1(x))\n",
    "        return out\n",
    "        \n",
    "        \n",
    "        \n",
    "        "
   ]
  },
  {
   "cell_type": "code",
   "execution_count": 74,
   "id": "684aa815",
   "metadata": {
    "hidden": true
   },
   "outputs": [],
   "source": [
    "class NCF_hybrid(nn.Module):\n",
    "    def __init__(self,embeddings,\n",
    "                 content_f,\n",
    "                 latent_factors=8,):\n",
    "        super().__init__()\n",
    "\n",
    "        self.latent_factors = latent_factors\n",
    "        self.bu = embeddings[2]\n",
    "        self.bi = embeddings[3]\n",
    "        self.pu = embeddings[0]\n",
    "        self.qi = embeddings[1]\n",
    "        self.us_bookmarks = content_f[1]\n",
    "        self.it_features = content_f[0]\n",
    "\n",
    "        self.MLPblock = MLP_up(latent_factors=latent_factors,amount_layers=1)\n",
    "        self.GMFblock = GMF(latent_factors=latent_factors)\n",
    "        self.Contentblock = CBlock(latent_factors=latent_factors, it_features=2)\n",
    "     \n",
    "\n",
    "        input_last_layer = self.GMFblock.out_features + self.MLPblock.out_features + self.Contentblock.out_features\n",
    "        self.last_layer = nn.Linear(input_last_layer, 1)\n",
    "                                    \n",
    "        \n",
    "    def embedding(self,x):\n",
    "\n",
    "        bu_ = torch.tensor([self.bu[x[0]]]).view(-1,1).float()\n",
    "        bi_ = torch.tensor([self.bi[x[1]]]).view(-1,1).float()\n",
    "        pu_ = torch.tensor(self.pu[x[0]]).float()\n",
    "        qi_ = torch.tensor(self.qi[x[1]]).float()\n",
    "        \n",
    "        us_content = torch.tensor(self.us_bookmarks[x[0]]).float()\n",
    "        it_content = torch.tensor(self.it_features[x[1]]).float()\n",
    "\n",
    "        \n",
    "        return bu_, bi_, pu_, qi_, us_content, it_content\n",
    "    \n",
    "    def forward(self,x):\n",
    "        \n",
    "        bu_, bi_, pu_, qi_, us_content, it_content  = self.embedding(x)\n",
    "        \n",
    "        svd_us = torch.concat((bu_,pu_),dim=1).float()\n",
    "        svd_it = torch.concat((bi_,qi_),dim=1).float()\n",
    "\n",
    "        \n",
    "        mlp_res = self.MLPblock(svd_us, svd_it) # 256\n",
    "        gmf_res = self.GMFblock(bu_, bi_, pu_, qi_) # 32\n",
    "        content_res = self.Contentblock(us_content,it_content)\n",
    "       \n",
    "        concat_vec = torch.concat((mlp_res, gmf_res, content_res),dim=1) \n",
    "        \n",
    "        out = self.last_layer(concat_vec)\n",
    "        \n",
    "        return out"
   ]
  },
  {
   "cell_type": "markdown",
   "id": "d4e38e44",
   "metadata": {
    "hidden": true
   },
   "source": [
    "**Собираем контентные признаки**"
   ]
  },
  {
   "cell_type": "code",
   "execution_count": 75,
   "id": "49424da3",
   "metadata": {
    "hidden": true
   },
   "outputs": [],
   "source": [
    "DATA_PATH = './'\n",
    "with open(os.path.join(DATA_PATH, 'catalogue.json'), 'r') as f:\n",
    "    catalogue = json.load(f)\n",
    "\n",
    "catalogue = {int(k): v for k, v in catalogue.items()}"
   ]
  },
  {
   "cell_type": "code",
   "execution_count": 76,
   "id": "7f9f6de9",
   "metadata": {
    "hidden": true
   },
   "outputs": [],
   "source": [
    "bookmarks = pd.read_csv(\n",
    "    os.path.join(DATA_PATH, 'bookmarks.csv'),\n",
    "    dtype={\n",
    "        'element_uid': np.uint16,\n",
    "        'user_uid': np.uint32,\n",
    "        'ts': np.float64\n",
    "    }\n",
    ")"
   ]
  },
  {
   "cell_type": "code",
   "execution_count": 77,
   "id": "e5d37716",
   "metadata": {
    "hidden": true
   },
   "outputs": [],
   "source": [
    "def construct_content_user_features(Q,P): # на вхоод приходит матрица уже транспонированная (items, latent_factors)\n",
    "    \"\"\"\n",
    "    Функция для каждого пользователя, который добавил хотя бы 2 фильма в запомненное\n",
    "    расчитывает среднее скрытых представлений этих фильмов \n",
    "    \"\"\"\n",
    "    unique_users_book = bookmarks.user_uid.unique()\n",
    "    us_bookmarks = np.zeros_like(P)\n",
    "    for user in tqdm.tqdm(unique_users_book):\n",
    "        items_booked = np.array(bookmarks[bookmarks.user_uid==user].element_uid)\n",
    "        items_booked = items_booked[items_booked < 7520]\n",
    "        if (len(items_booked) > 2) and (user < 104564): # добавим робастности\n",
    "            us_bookmarks[user,:] = np.mean(svd.Q.T[items_booked,:])\n",
    "            \n",
    "            \n",
    "    return us_bookmarks\n"
   ]
  },
  {
   "cell_type": "code",
   "execution_count": 78,
   "id": "999d4626",
   "metadata": {
    "hidden": true
   },
   "outputs": [],
   "source": [
    "catalogue = {key : [catalogue[key][\"feature_2\"], catalogue[key][\"feature_4\"]] for key in catalogue.keys()}"
   ]
  },
  {
   "cell_type": "code",
   "execution_count": 79,
   "id": "7c96b7ff",
   "metadata": {
    "hidden": true
   },
   "outputs": [],
   "source": [
    "# формируем контентные признаки фильмов (features_2, features_4)\n",
    "arr_item_features = np.zeros((7519,2))\n",
    "for key in catalogue:\n",
    "    if key < 7519:\n",
    "        arr_item_features[key,:] = catalogue[key]\n",
    "    \n",
    "    "
   ]
  },
  {
   "cell_type": "code",
   "execution_count": 80,
   "id": "edfa8598",
   "metadata": {
    "hidden": true
   },
   "outputs": [
    {
     "name": "stderr",
     "output_type": "stream",
     "text": [
      "100%|██████████| 147167/147167 [01:38<00:00, 1496.64it/s]\n",
      "100%|██████████| 15/15 [06:26<00:00, 25.76s/it]\n"
     ]
    },
    {
     "name": "stdout",
     "output_type": "stream",
     "text": [
      "8/1,1.8641548453701613\n"
     ]
    },
    {
     "name": "stderr",
     "output_type": "stream",
     "text": [
      "100%|██████████| 147167/147167 [01:38<00:00, 1501.13it/s]\n",
      "100%|██████████| 15/15 [06:27<00:00, 25.86s/it]\n"
     ]
    },
    {
     "name": "stdout",
     "output_type": "stream",
     "text": [
      "8/2,1.8562327466526807\n"
     ]
    },
    {
     "name": "stderr",
     "output_type": "stream",
     "text": [
      "100%|██████████| 147167/147167 [01:38<00:00, 1501.16it/s]\n",
      "100%|██████████| 15/15 [06:26<00:00, 25.78s/it]\n"
     ]
    },
    {
     "name": "stdout",
     "output_type": "stream",
     "text": [
      "8/3,1.8648498171904353\n"
     ]
    },
    {
     "name": "stderr",
     "output_type": "stream",
     "text": [
      "100%|██████████| 147167/147167 [01:38<00:00, 1496.12it/s]\n",
      "100%|██████████| 15/15 [06:46<00:00, 27.12s/it]\n"
     ]
    },
    {
     "name": "stdout",
     "output_type": "stream",
     "text": [
      "10/1,1.8649953007679503\n"
     ]
    },
    {
     "name": "stderr",
     "output_type": "stream",
     "text": [
      "100%|██████████| 147167/147167 [01:38<00:00, 1498.62it/s]\n",
      "100%|██████████| 15/15 [06:44<00:00, 26.97s/it]\n"
     ]
    },
    {
     "name": "stdout",
     "output_type": "stream",
     "text": [
      "10/2,1.8590013979782665\n"
     ]
    },
    {
     "name": "stderr",
     "output_type": "stream",
     "text": [
      "100%|██████████| 147167/147167 [01:37<00:00, 1507.60it/s]\n",
      "100%|██████████| 15/15 [06:46<00:00, 27.09s/it]\n"
     ]
    },
    {
     "name": "stdout",
     "output_type": "stream",
     "text": [
      "10/3,1.8635568151399078\n"
     ]
    },
    {
     "name": "stderr",
     "output_type": "stream",
     "text": [
      "100%|██████████| 147167/147167 [01:37<00:00, 1501.88it/s]\n",
      "100%|██████████| 15/15 [06:42<00:00, 26.82s/it]\n"
     ]
    },
    {
     "name": "stdout",
     "output_type": "stream",
     "text": [
      "12/1,1.8646804591996722\n"
     ]
    },
    {
     "name": "stderr",
     "output_type": "stream",
     "text": [
      "100%|██████████| 147167/147167 [01:37<00:00, 1512.95it/s]\n",
      "100%|██████████| 15/15 [06:53<00:00, 27.60s/it]\n"
     ]
    },
    {
     "name": "stdout",
     "output_type": "stream",
     "text": [
      "12/2,1.8583349552268429\n"
     ]
    },
    {
     "name": "stderr",
     "output_type": "stream",
     "text": [
      "100%|██████████| 147167/147167 [01:38<00:00, 1490.53it/s]\n",
      "100%|██████████| 15/15 [06:59<00:00, 27.98s/it]"
     ]
    },
    {
     "name": "stdout",
     "output_type": "stream",
     "text": [
      "12/3,1.8616268291590268\n"
     ]
    },
    {
     "name": "stderr",
     "output_type": "stream",
     "text": [
      "\n"
     ]
    }
   ],
   "source": [
    "l = [1,2,3]\n",
    "dct_co = {8:[],10:[],12:[]}\n",
    "for factor in [8,10,12]:\n",
    "    for i in [1,2,3]:\n",
    "        l.remove(i)\n",
    "        train_dataset = Dataset(pd.concat((dct_datasets[l[0]],dct_datasets[l[1]])))\n",
    "        val_dataset = Dataset(dct_datasets[i])\n",
    "\n",
    "        train_dataloader = torch.utils.data.DataLoader(train_dataset,batch_size=256,drop_last=True,shuffle=True)\n",
    "        val_dataloader = torch.utils.data.DataLoader(val_dataset,batch_size=1024)\n",
    "\n",
    "        bu = parameters_dct[factor][\"parameters\"][i-1][2]\n",
    "        bi = parameters_dct[factor][\"parameters\"][i-1][3]\n",
    "        qi = parameters_dct[factor][\"parameters\"][i-1][1].T\n",
    "        pu = parameters_dct[factor][\"parameters\"][i-1][0]\n",
    "        us_bookmarks = construct_content_user_features(qi,pu)\n",
    "        \n",
    "        \n",
    "        pqui = [pu,qi,bu,bi]\n",
    "        model = NCF_hybrid(embeddings=pqui,\n",
    "                 content_f=[arr_item_features,us_bookmarks],\n",
    "                 latent_factors=factor)\n",
    "        errors, _ = validate(model, train_dataloader, val_dataloader, n_epochs=15)\n",
    "        \n",
    "        er = min(np.array(errors)[:,1])\n",
    "        dct_ncf[factor].append(er)\n",
    "        print(f\"{factor}/{i},{er}\")\n",
    "\n",
    "        l = [1,2,3]"
   ]
  },
  {
   "cell_type": "code",
   "execution_count": null,
   "id": "19f7fd2a",
   "metadata": {
    "hidden": true
   },
   "outputs": [],
   "source": []
  },
  {
   "cell_type": "markdown",
   "id": "88655588",
   "metadata": {
    "hidden": true
   },
   "source": [
    "**2. В данном блоке контентые признаки будут подаваться вначале нейросети в блок ML_up, поэтому можно обойтись без блока CBlock.**"
   ]
  },
  {
   "cell_type": "code",
   "execution_count": 90,
   "id": "eb4314bb",
   "metadata": {
    "hidden": true
   },
   "outputs": [],
   "source": [
    "class MLP_up_2(nn.Module):\n",
    "    def __init__(self,latent_factors,amount_layers=4,fn_act=nn.GELU,\n",
    "                 base_multiply=1, p_dropout=0.3,batch_norm=False, skip=False):\n",
    "        super().__init__()\n",
    "\n",
    " \n",
    "\n",
    "        lt_f = latent_factors\n",
    "        self.skip_indicator = 1. if skip else 0.\n",
    "        \n",
    "        self.block1 = NNBlock(lt_f, lt_f,fn_act, batch_norm, p_dropout)\n",
    "        \n",
    "        self.block2 = NNBlock(lt_f, lt_f,\n",
    "                               fn_act, batch_norm, p_dropout) if amount_layers > 1 else nn.Identity()\n",
    "        \n",
    "        self.block3 = NNBlock(self.block2.out_features, self.block2.out_features*base_multiply,\n",
    "                               fn_act, batch_norm, p_dropout) if amount_layers > 2 else nn.Identity()\n",
    "        \n",
    "        self.block4 = NNBlock(self.block3.out_features, self.block3.out_features*2,\n",
    "                               fn_act, batch_norm, p_dropout) if amount_layers > 3 else nn.Identity()\n",
    "        \n",
    "        self.out_features = lt_f\n",
    "        \n",
    "\n",
    "        \n",
    "        self.skip_concat_to_block4 = Skip_module(lt_f*2+2,self.block3.out_features) if amount_layers > 2 else nn.Identity()\n",
    "        \n",
    "\n",
    "\n",
    "    def forward(self,emb_us, emb_it):\n",
    "        \n",
    "        concat_vec = torch.concat((emb_us, emb_it),dim=1)\n",
    "        \n",
    "        out1 = self.block1(concat_vec) \n",
    "        out2 = self.block2(out1) \n",
    "        out3 = self.block3(out2) + self.skip_concat_to_block4(concat_vec) *self.skip_indicator if self.skip_indicator > 0 else self.block3(out2)\n",
    "        out4 = self.block4(out3) \n",
    "\n",
    "        \n",
    "        return out4"
   ]
  },
  {
   "cell_type": "code",
   "execution_count": 91,
   "id": "dae09a39",
   "metadata": {
    "hidden": true
   },
   "outputs": [],
   "source": [
    "class NCF_hybrid_2(nn.Module):\n",
    "    def __init__(self,embeddings,\n",
    "                 content_f,\n",
    "                 latent_factors=8,):\n",
    "        super().__init__()\n",
    "\n",
    "        self.latent_factors = latent_factors\n",
    "        self.bu = embeddings[2]\n",
    "        self.bi = embeddings[3]\n",
    "        self.pu = embeddings[0]\n",
    "        self.qi = embeddings[1]\n",
    "        self.us_bookmarks = content_f[1]\n",
    "        self.it_features = content_f[0]\n",
    "\n",
    "        self.MLPblock = MLP_up_2(latent_factors=latent_factors*3+4,amount_layers=2)\n",
    "        self.GMFblock = GMF(latent_factors=latent_factors)\n",
    "\n",
    "        input_last_layer = self.GMFblock.out_features + self.MLPblock.out_features\n",
    "        self.last_layer = nn.Linear(input_last_layer, 1)\n",
    "                                    \n",
    "        \n",
    "    def embedding(self,x):\n",
    "\n",
    "        bu_ = torch.tensor([self.bu[x[0]]]).view(-1,1).float()\n",
    "        bi_ = torch.tensor([self.bi[x[1]]]).view(-1,1).float()\n",
    "        pu_ = torch.tensor(self.pu[x[0]]).float()\n",
    "        qi_ = torch.tensor(self.qi[x[1]]).float()\n",
    "        \n",
    "        us_content = torch.tensor(self.us_bookmarks[x[0]]).float()\n",
    "        it_content = torch.tensor(self.it_features[x[1]]).float()\n",
    "\n",
    "        \n",
    "        return bu_, bi_, pu_, qi_, us_content, it_content\n",
    "    \n",
    "    def forward(self,x):\n",
    "        \n",
    "        bu_, bi_, pu_, qi_, us_content, it_content  = self.embedding(x)\n",
    "        \n",
    "        svd_us = torch.concat((bu_,pu_,us_content),dim=1).float()\n",
    "        svd_it = torch.concat((bi_,qi_,it_content),dim=1).float()\n",
    "\n",
    "        \n",
    "        mlp_res = self.MLPblock(svd_us, svd_it) \n",
    "        gmf_res = self.GMFblock(bu_, bi_, pu_, qi_) \n",
    "       \n",
    "        concat_vec = torch.concat((mlp_res, gmf_res),dim=1) \n",
    "        \n",
    "        out = self.last_layer(concat_vec)\n",
    "        \n",
    "        return out"
   ]
  },
  {
   "cell_type": "code",
   "execution_count": null,
   "id": "8cc092a2",
   "metadata": {
    "hidden": true
   },
   "outputs": [],
   "source": []
  },
  {
   "cell_type": "code",
   "execution_count": 93,
   "id": "40d9133e",
   "metadata": {
    "hidden": true
   },
   "outputs": [
    {
     "name": "stderr",
     "output_type": "stream",
     "text": [
      "100%|██████████| 147167/147167 [01:38<00:00, 1495.26it/s]\n",
      "100%|██████████| 15/15 [06:40<00:00, 26.67s/it]\n"
     ]
    },
    {
     "name": "stdout",
     "output_type": "stream",
     "text": [
      "8/1,1.863405924044083\n"
     ]
    },
    {
     "name": "stderr",
     "output_type": "stream",
     "text": [
      "100%|██████████| 147167/147167 [01:38<00:00, 1495.50it/s]\n",
      "100%|██████████| 15/15 [06:43<00:00, 26.90s/it]\n"
     ]
    },
    {
     "name": "stdout",
     "output_type": "stream",
     "text": [
      "8/2,1.8573309462013203\n"
     ]
    },
    {
     "name": "stderr",
     "output_type": "stream",
     "text": [
      "100%|██████████| 147167/147167 [01:37<00:00, 1505.28it/s]\n",
      "100%|██████████| 15/15 [06:39<00:00, 26.66s/it]\n"
     ]
    },
    {
     "name": "stdout",
     "output_type": "stream",
     "text": [
      "8/3,1.8625982322815995\n"
     ]
    },
    {
     "name": "stderr",
     "output_type": "stream",
     "text": [
      "100%|██████████| 147167/147167 [01:38<00:00, 1494.22it/s]\n",
      "100%|██████████| 15/15 [06:40<00:00, 26.71s/it]\n"
     ]
    },
    {
     "name": "stdout",
     "output_type": "stream",
     "text": [
      "10/1,1.8641171794162397\n"
     ]
    },
    {
     "name": "stderr",
     "output_type": "stream",
     "text": [
      "100%|██████████| 147167/147167 [01:38<00:00, 1494.02it/s]\n",
      "100%|██████████| 15/15 [06:41<00:00, 26.76s/it]\n"
     ]
    },
    {
     "name": "stdout",
     "output_type": "stream",
     "text": [
      "10/2,1.8572774853065204\n"
     ]
    },
    {
     "name": "stderr",
     "output_type": "stream",
     "text": [
      "100%|██████████| 147167/147167 [01:38<00:00, 1491.64it/s]\n",
      "100%|██████████| 15/15 [06:31<00:00, 26.10s/it]\n"
     ]
    },
    {
     "name": "stdout",
     "output_type": "stream",
     "text": [
      "10/3,1.8610555413569279\n"
     ]
    },
    {
     "name": "stderr",
     "output_type": "stream",
     "text": [
      "100%|██████████| 147167/147167 [01:39<00:00, 1475.03it/s]\n",
      "100%|██████████| 15/15 [06:26<00:00, 25.77s/it]\n"
     ]
    },
    {
     "name": "stdout",
     "output_type": "stream",
     "text": [
      "12/1,1.8630459873306182\n"
     ]
    },
    {
     "name": "stderr",
     "output_type": "stream",
     "text": [
      "100%|██████████| 147167/147167 [01:37<00:00, 1510.76it/s]\n",
      "100%|██████████| 15/15 [06:46<00:00, 27.10s/it]\n"
     ]
    },
    {
     "name": "stdout",
     "output_type": "stream",
     "text": [
      "12/2,1.8583567651336572\n"
     ]
    },
    {
     "name": "stderr",
     "output_type": "stream",
     "text": [
      "100%|██████████| 147167/147167 [01:37<00:00, 1515.66it/s]\n",
      "100%|██████████| 15/15 [06:49<00:00, 27.27s/it]"
     ]
    },
    {
     "name": "stdout",
     "output_type": "stream",
     "text": [
      "12/3,1.8617077519274685\n"
     ]
    },
    {
     "name": "stderr",
     "output_type": "stream",
     "text": [
      "\n"
     ]
    }
   ],
   "source": [
    "l = [1,2,3]\n",
    "dct_co2 = {8:[],10:[],12:[]}\n",
    "for factor in [8,10,12]:\n",
    "    for i in [1,2,3]:\n",
    "        l.remove(i)\n",
    "        train_dataset = Dataset(pd.concat((dct_datasets[l[0]],dct_datasets[l[1]])))\n",
    "        val_dataset = Dataset(dct_datasets[i])\n",
    "\n",
    "        train_dataloader = torch.utils.data.DataLoader(train_dataset,batch_size=256,drop_last=True,shuffle=True)\n",
    "        val_dataloader = torch.utils.data.DataLoader(val_dataset,batch_size=1024)\n",
    "\n",
    "        bu = parameters_dct[factor][\"parameters\"][i-1][2]\n",
    "        bi = parameters_dct[factor][\"parameters\"][i-1][3]\n",
    "        qi = parameters_dct[factor][\"parameters\"][i-1][1].T\n",
    "        pu = parameters_dct[factor][\"parameters\"][i-1][0]\n",
    "        us_bookmarks = construct_content_user_features(qi,pu)\n",
    "        \n",
    "        \n",
    "        pqui = [pu,qi,bu,bi]\n",
    "        model = NCF_hybrid_2(embeddings=pqui,\n",
    "                 content_f=[arr_item_features,us_bookmarks],\n",
    "                 latent_factors=factor)\n",
    "        errors, _ = validate(model, train_dataloader, val_dataloader, n_epochs=15)\n",
    "        \n",
    "        er = min(np.array(errors)[:,1])\n",
    "        dct_co2[factor].append(er)\n",
    "        print(f\"{factor}/{i},{er}\")\n",
    "\n",
    "        l = [1,2,3]"
   ]
  },
  {
   "cell_type": "markdown",
   "id": "e15eff95",
   "metadata": {
    "hidden": true
   },
   "source": [
    "**Сравнение по времени работы**\n",
    "\n",
    "Время работы сетей отличается менее, чем на секунду на каждую эпоху (1/26), поскольку  отличием между сетями является небольшое увеличение параметров модели и небольшая модификация архитектуры.\n"
   ]
  },
  {
   "cell_type": "code",
   "execution_count": null,
   "id": "fdd8ee0c",
   "metadata": {
    "hidden": true
   },
   "outputs": [],
   "source": []
  },
  {
   "cell_type": "markdown",
   "id": "00c1fadd",
   "metadata": {
    "heading_collapsed": true
   },
   "source": [
    "# **Общее сравнение ахитектур с точки зрения достигнутого качества**"
   ]
  },
  {
   "cell_type": "code",
   "execution_count": 103,
   "id": "cdb2f9f8",
   "metadata": {
    "hidden": true
   },
   "outputs": [],
   "source": [
    "svd_arr = np.array([loss_dct[key][\"test\"] for key in loss_dct]).mean(axis=1)"
   ]
  },
  {
   "cell_type": "code",
   "execution_count": 104,
   "id": "bac6d790",
   "metadata": {
    "hidden": true
   },
   "outputs": [],
   "source": [
    "ncf_arr = np.array([1.8635086545694606,1.8633961680479115,1.8625273685538517])"
   ]
  },
  {
   "cell_type": "code",
   "execution_count": 105,
   "id": "7896dc48",
   "metadata": {
    "hidden": true
   },
   "outputs": [],
   "source": [
    "con1_arr = np.array([1.8617458030710925,1.8625178379620415,1.8604501232177861])"
   ]
  },
  {
   "cell_type": "code",
   "execution_count": 106,
   "id": "81dc7d3a",
   "metadata": {
    "hidden": true
   },
   "outputs": [],
   "source": [
    "con2_arr = np.array([sum(dct_co2[key])/3 for key in dct_co2])"
   ]
  },
  {
   "cell_type": "code",
   "execution_count": 107,
   "id": "837b341d",
   "metadata": {
    "hidden": true
   },
   "outputs": [],
   "source": [
    "df_res = pd.DataFrame([])\n",
    "df_res[\"SVD\"] = svd_arr\n",
    "df_res[\"NeuMF\"] = ncf_arr\n",
    "df_res[\"Content_NeuMf_1\"] = con1_arr\n",
    "df_res[\"Content_NeuMF_2\"] = con2_arr"
   ]
  },
  {
   "cell_type": "code",
   "execution_count": 145,
   "id": "4410d2fb",
   "metadata": {
    "hidden": true
   },
   "outputs": [],
   "source": [
    "df_res.index = [8,10,12]"
   ]
  },
  {
   "cell_type": "code",
   "execution_count": 148,
   "id": "fa853518",
   "metadata": {
    "hidden": true
   },
   "outputs": [
    {
     "data": {
      "image/png": "[encoded data removed]",
      "text/plain": [
       "<Figure size 1080x1080 with 1 Axes>"
      ]
     },
     "metadata": {
      "needs_background": "light"
     },
     "output_type": "display_data"
    }
   ],
   "source": [
    "plt.rcParams.update({'font.size':17})\n",
    "ax = df_res.plot.bar(rot=0,figsize=(15,15),ylim=(1.8,1.885), xlabel=\"Latent Factors\", ylabel=\"Loss\")"
   ]
  },
  {
   "cell_type": "markdown",
   "id": "120af35d",
   "metadata": {
    "heading_collapsed": true
   },
   "source": [
    "# Выводы:\n"
   ]
  },
  {
   "cell_type": "markdown",
   "id": "d97e6b01",
   "metadata": {
    "hidden": true
   },
   "source": [
    "В данной работе для задач рекомендаций применялись следующие алгоритмы:\n",
    "1. SVD \n",
    "2. NeuMF \n",
    "3. Гибридная архитектура двух типов\n",
    "\n",
    "Сформированные алгоритмом SVD матрицы P,Q, bu, bi использовались в нейросетевых архитектурах для формирования эмбеддингов.\n",
    "Эксперименты показали, что добавление контентных признаков к исходной NeuMF, действительно, повышает качество модели. \n",
    "SVD, ожидаемо, показал худшее качество.\n",
    "\n",
    "Количество скрытых признаков на качество оказал незначительное влияние. \n",
    "\n",
    "Из двух подходов с добавлением контентных  признаков более высокое качество показал подход, при котором контентные признаки помещаются вначале модели. Видимо, причинами являются:\n",
    "1. Общее уменьшение количества параметров, что снижает переобучение и увеличивает робастность модели. \n",
    "2. Возможность контентых признаков в процессе прохождения линейного слоя входить в линейную комбинацию  с эмбеддингами, полученными с помощью матрицы Q. \n"
   ]
  },
  {
   "cell_type": "code",
   "execution_count": null,
   "id": "d5ec3d03",
   "metadata": {
    "hidden": true
   },
   "outputs": [],
   "source": []
  },
  {
   "cell_type": "code",
   "execution_count": null,
   "id": "30679a6b",
   "metadata": {
    "hidden": true
   },
   "outputs": [],
   "source": []
  }
 ],
 "metadata": {
  "kernelspec": {
   "display_name": "Python 3 (ipykernel)",
   "language": "python",
   "name": "python3"
  },
  "language_info": {
   "codemirror_mode": {
    "name": "ipython",
    "version": 3
   },
   "file_extension": ".py",
   "mimetype": "text/x-python",
   "name": "python",
   "nbconvert_exporter": "python",
   "pygments_lexer": "ipython3",
   "version": "3.9.12"
  }
 },
 "nbformat": 4,
 "nbformat_minor": 5
}
