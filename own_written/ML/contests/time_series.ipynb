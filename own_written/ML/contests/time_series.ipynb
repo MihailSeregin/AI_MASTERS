{
 "cells": [
  {
   "cell_type": "markdown",
   "id": "21b73857",
   "metadata": {},
   "source": [
    "# Автор: Серегин М.С.\n"
   ]
  },
  {
   "cell_type": "markdown",
   "id": "7020b05f",
   "metadata": {},
   "source": [
    "# Общее описание\n",
    "\n",
    "**Основная идея - для каждого ряда использовать лучший алгоритм**\n"
   ]
  },
  {
   "cell_type": "markdown",
   "id": "f87f6a32",
   "metadata": {},
   "source": [
    "# Загрузка данных"
   ]
  },
  {
   "cell_type": "code",
   "execution_count": null,
   "id": "2ccd27fc",
   "metadata": {},
   "outputs": [],
   "source": [
    "import pandas as pd\n",
    "import matplotlib.pyplot as plt\n",
    "from IPython.display import display, HTML\n",
    "display(HTML(\"<style>.container { width:45% !important; }</style>\"))\n",
    "import random\n",
    "import numpy as np\n",
    "import tqdm\n",
    "from sklearn.linear_model import Lasso\n",
    "from statsmodels.tsa.ar_model import AutoReg"
   ]
  },
  {
   "cell_type": "code",
   "execution_count": null,
   "id": "e0d17c74",
   "metadata": {},
   "outputs": [],
   "source": [
    "tr=pd.read_parquet(\"train.parquet\")\n",
    "sub=pd.read_csv(\"submission.csv\")"
   ]
  },
  {
   "cell_type": "code",
   "execution_count": null,
   "id": "28c19562",
   "metadata": {},
   "outputs": [],
   "source": [
    "index_split = tr.index.str.split('_')"
   ]
  },
  {
   "cell_type": "code",
   "execution_count": null,
   "id": "82b81909",
   "metadata": {},
   "outputs": [],
   "source": [
    "tr['row_num'] = index_split.str.get(0)\n",
    "tr['row_type'] = index_split.str.get(1)\n",
    "tr['timestamp'] = index_split.str.get(-1).astype(int)\n",
    "tr['row_id'] = tr.row_num + '_' + tr.row_type # \"уникальный\" ряд - уникальная пара (row_num, row_type)\n",
    "tr"
   ]
  },
  {
   "cell_type": "code",
   "execution_count": null,
   "id": "5518c053",
   "metadata": {},
   "outputs": [],
   "source": [
    "X = tr.pivot(index='row_id', columns='timestamp', values='Values')"
   ]
  },
  {
   "cell_type": "code",
   "execution_count": null,
   "id": "3441c916",
   "metadata": {},
   "outputs": [],
   "source": [
    "X.columns = ['tr_' + str(col) for col in X.columns]"
   ]
  },
  {
   "cell_type": "code",
   "execution_count": null,
   "id": "eb50e47c",
   "metadata": {},
   "outputs": [],
   "source": [
    "# https://www.kaggle.com/competitions/aim-2023/code\n",
    "def calculate_weights(data):\n",
    "    \"\"\"\n",
    "    Функция для расчета весов для каждого ряда\n",
    "    \"\"\"\n",
    "    weights = []\n",
    "    for i in range(data.shape[0]):\n",
    "        ts = data.values[i, :]\n",
    "        weight = np.mean(np.abs(np.diff(ts)))\n",
    "        weights.append(1 / weight)\n",
    "    return np.array(weights)\n",
    "\n",
    "\n",
    "def calculate_mase(y_true, y_pred, weight):\n",
    "    \"\"\"\n",
    "    Функция для расчета метрики MASE для каждого ряда\n",
    "    \"\"\"\n",
    "    n = len(y_true)\n",
    "    mase = np.sum(weight * np.abs(y_true - y_pred)) / n\n",
    "    return mase"
   ]
  },
  {
   "cell_type": "code",
   "execution_count": null,
   "id": "ea041976",
   "metadata": {},
   "outputs": [],
   "source": [
    "weights = calculate_weights(X)"
   ]
  },
  {
   "cell_type": "code",
   "execution_count": null,
   "id": "106511ee",
   "metadata": {},
   "outputs": [],
   "source": [
    "# формируем валидационный и обучающий датасеты\n",
    "X_test = X[X.columns[-100:]]\n",
    "X_train = X[X.columns[:-100]]"
   ]
  },
  {
   "cell_type": "markdown",
   "id": "86863f5c",
   "metadata": {},
   "source": [
    "# Первая модель - AutoRegression\n",
    "\n",
    "1. Тренируем модель на валидационной выборке, вычисляем ошибку для каждого ряда\n",
    "2. Для всех рядов осуществляем предсказания\n",
    "3. Период установил в один день (288)\n",
    "\n"
   ]
  },
  {
   "cell_type": "code",
   "execution_count": null,
   "id": "3c40c648",
   "metadata": {},
   "outputs": [],
   "source": [
    "dct = {}\n",
    "dct_preds = {}"
   ]
  },
  {
   "cell_type": "code",
   "execution_count": null,
   "id": "a3182458",
   "metadata": {},
   "outputs": [],
   "source": [
    "# train\n",
    "index_all = X_train.index\n",
    "for i in tqdm.tqdm(range(len(X))):\n",
    "    vals = X_train.iloc[i].values[-15000:]\n",
    "    res = AutoReg(vals, lags=300,seasonal=True,period=288).fit()\n",
    "    preds = res.model.predict(res.params, start=len(vals),end=len(vals)+99)\n",
    "    \n",
    "\n",
    "    true = X_test.iloc[i].values\n",
    "    \n",
    "    dct[i] = calculate_mase(true,preds,weight=weights[i])\n",
    "\n",
    "    dct_preds[i] = preds"
   ]
  },
  {
   "cell_type": "code",
   "execution_count": null,
   "id": "e9ce4e47",
   "metadata": {},
   "outputs": [],
   "source": [
    "# test\n",
    "index_all = X.index\n",
    "autoreg_preds = {}\n",
    "for i in tqdm.tqdm(range(len(X))):\n",
    "    vals = X.iloc[i].values[-15000:]\n",
    "    res = AutoReg(vals, lags=300,seasonal=True,period=288).fit()\n",
    "    preds_ = res.model.predict(res.params, start=len(vals),end=len(vals)+99)\n",
    "    \n",
    "    autoreg_preds[i] = preds_"
   ]
  },
  {
   "cell_type": "code",
   "execution_count": null,
   "id": "b3019ebc",
   "metadata": {},
   "outputs": [],
   "source": [
    "# в датасете содержатся ошибки для рядов разных моделей\n",
    "er_df = pd.DataFrame({\"index\":dct.keys(),\n",
    "             \"error\":dct.values()})\n",
    "\n",
    "er_df.sort_values(\"error\")"
   ]
  },
  {
   "cell_type": "markdown",
   "id": "30cfdc9e",
   "metadata": {},
   "source": [
    "# Вторая модель - Линейная регрессия.\n",
    "\n",
    "Признаки, учитывающие как непосредственно предшествующие моменту предсказания, так и значения ряда в той же позиции только на 2016 значений назад (ровно неделю,две  итд назад).\n"
   ]
  },
  {
   "cell_type": "code",
   "execution_count": null,
   "id": "d0b3fc62",
   "metadata": {},
   "outputs": [],
   "source": [
    "BEFORE_ACTION=20\n",
    "\n",
    "def train_dataset(vals, n_epochs=4, n_surrounders=20, before_action=BEFORE_ACTION, n_estimations=100):\n",
    "    \n",
    "    \n",
    "    def get_features(vals,init,n_estimations=0):\n",
    "        features = []\n",
    "        for i in range(init,len(vals)+n_estimations): # for all possible \n",
    "            init = i\n",
    "            single_features = []\n",
    "            for epoch in range(1,n_epochs+1):\n",
    "                single_features.extend(vals[init - epoch * 2016 - n_surrounders:init - epoch * 2016 + n_surrounders])\n",
    "            if n_estimations==0: # if train\n",
    "                single_features.extend(vals[init-before_action:init])\n",
    "            features.append(single_features)\n",
    "\n",
    "        return np.array(features)\n",
    "    \n",
    "    train_init = n_epochs * 2016 + n_surrounders\n",
    "    \n",
    "    train_features = get_features(vals,train_init)\n",
    "    test_features = get_features(vals,len(vals),100)\n",
    "        \n",
    "\n",
    "    targets = []\n",
    "    \n",
    "    for i in range(train_init,len(vals)):\n",
    "        targets.append(vals[i])\n",
    "        \n",
    "    return train_features,test_features, np.array(targets)\n",
    "    \n",
    "    \n",
    "    "
   ]
  },
  {
   "cell_type": "code",
   "execution_count": null,
   "id": "3e533367",
   "metadata": {},
   "outputs": [],
   "source": [
    "def validate(N_EPOCHS,N_SURROUNDERS,BEFORE_ACTION,):\n",
    "    \n",
    "    lin_error = {}\n",
    "    lin_preds = {}\n",
    "    \n",
    "    index_all = X_train.index\n",
    "    n_est = 100\n",
    "    for j in tqdm.tqdm(range(len(X))):\n",
    "        vals = X_train.iloc[j].values\n",
    "        train,test,target = train_dataset(vals,n_epochs=N_EPOCHS,n_surrounders=N_SURROUNDERS,before_action=BEFORE_ACTION)\n",
    "        preds=[]\n",
    "\n",
    "        reg = Lasso(max_iter=40000)\n",
    "        reg.fit(train,target)\n",
    "\n",
    "        just_before = list(vals)\n",
    "        for i in range(n_est):\n",
    "            additional = just_before[len(just_before)-BEFORE_ACTION:]\n",
    "            single_test = np.concatenate((test[i],np.array(additional)))\n",
    "            pr=float(reg.predict(single_test.reshape(1,-1)))\n",
    "\n",
    "            preds.append(pr)\n",
    "            just_before.append(pr)\n",
    "\n",
    "\n",
    "\n",
    "        true = X_test.iloc[j].values\n",
    "\n",
    "        lin_error[j] = calculate_mase(true,preds,weight=weights[j])\n",
    "\n",
    "\n",
    "\n",
    "        lin_preds[j] = np.array(preds)\n",
    "        \n",
    "        \n",
    "    er_df = pd.DataFrame({\"index\":lin_error.keys(),\n",
    "             \"error\":lin_error.values()})\n",
    "\n",
    "    er_df.sort_values(\"error\")\n",
    "    print(er_df.error.mean(),N_EPOCHS,N_SURROUNDERS,BEFORE_ACTION)\n",
    "    \n",
    "    return lin_preds,lin_error\n",
    "\n",
    "        "
   ]
  },
  {
   "cell_type": "code",
   "execution_count": null,
   "id": "4a94ea4d",
   "metadata": {},
   "outputs": [],
   "source": [
    "my_reg,my_reg_error = validate(BEFORE_ACTION=20,\n",
    "N_EPOCHS=4,\n",
    "N_SURROUNDERS=15)"
   ]
  },
  {
   "cell_type": "code",
   "execution_count": null,
   "id": "c97b1681",
   "metadata": {},
   "outputs": [],
   "source": [
    "def predict(N_EPOCHS,N_SURROUNDERS,BEFORE_ACTION,):\n",
    "    \n",
    "    lin_error = {}\n",
    "    lin_preds = {}\n",
    "    \n",
    "    index_all = X.index\n",
    "    n_est = 100\n",
    "    for j in tqdm.tqdm(range(len(X))):\n",
    "        vals = X.iloc[j].values\n",
    "        train,test,target = train_dataset(vals,n_epochs=N_EPOCHS,n_surrounders=N_SURROUNDERS,before_action=BEFORE_ACTION)\n",
    "        preds=[]\n",
    "\n",
    "        reg = Lasso(max_iter=40000)\n",
    "        reg.fit(train,target)\n",
    "\n",
    "        just_before = list(vals)\n",
    "        for i in range(n_est):\n",
    "            additional = just_before[len(just_before)-BEFORE_ACTION:]\n",
    "            single_test = np.concatenate((test[i],np.array(additional)))\n",
    "            pr=float(reg.predict(single_test.reshape(1,-1)))\n",
    "\n",
    "            preds.append(pr)\n",
    "            just_before.append(pr)\n",
    "\n",
    "\n",
    "\n",
    "\n",
    "\n",
    "\n",
    "\n",
    "        lin_preds[j] = np.array(preds)\n",
    "        \n",
    "\n",
    "    \n",
    "    return lin_preds\n",
    "\n",
    "        "
   ]
  },
  {
   "cell_type": "code",
   "execution_count": null,
   "id": "349291d3",
   "metadata": {},
   "outputs": [],
   "source": [
    "my_reg_predict=predict(BEFORE_ACTION=20,\n",
    "N_EPOCHS=4,\n",
    "N_SURROUNDERS=15)"
   ]
  },
  {
   "cell_type": "markdown",
   "id": "9976331b",
   "metadata": {},
   "source": [
    "# Наивный алгоритм усреднения значений на предыдущих неделях"
   ]
  },
  {
   "cell_type": "code",
   "execution_count": null,
   "id": "92ec6459",
   "metadata": {},
   "outputs": [],
   "source": [
    "def simple(X):\n",
    "    preds_collect = []\n",
    "    Preds = pd.DataFrame(index=X.index)\n",
    "\n",
    "    al = list()\n",
    "    for i in range(100):\n",
    "        for j in range(X.shape[1] // 2016):\n",
    "            preds_collect.append(X.iloc[:, -(2016 * (j + 1)) + i].values)\n",
    "\n",
    "        al.append(np.median(np.array(preds_collect), axis=0))\n",
    "        preds_collect = []\n",
    "\n",
    "    return np.stack(al).T\n",
    "\n",
    "\n"
   ]
  },
  {
   "cell_type": "code",
   "execution_count": null,
   "id": "a2c223fa",
   "metadata": {},
   "outputs": [],
   "source": [
    "# validation\n",
    "res_val = simple(X_train)"
   ]
  },
  {
   "cell_type": "code",
   "execution_count": null,
   "id": "000a15e6",
   "metadata": {},
   "outputs": [],
   "source": [
    "naive = []\n",
    "for i in range(len(X)):\n",
    "    naive.append(calculate_mase(X_test.values[i],res_val[i],weights[i]))"
   ]
  },
  {
   "cell_type": "code",
   "execution_count": null,
   "id": "28f99367",
   "metadata": {},
   "outputs": [],
   "source": [
    "res=simple(X)"
   ]
  },
  {
   "cell_type": "code",
   "execution_count": null,
   "id": "fc3d9485",
   "metadata": {},
   "outputs": [],
   "source": [
    "for i in range(len(X)):\n",
    "    inds=sub[sub.Id.str.startswith(index_all[i])].index\n",
    "    sub.loc[inds,\"Expected\"]= res[i]"
   ]
  },
  {
   "cell_type": "code",
   "execution_count": null,
   "id": "032073e9",
   "metadata": {},
   "outputs": [],
   "source": []
  },
  {
   "cell_type": "code",
   "execution_count": null,
   "id": "09648308",
   "metadata": {},
   "outputs": [],
   "source": [
    "# добавляем ошибки для наивного алгоритма и линейной регрессии\n",
    "my_reg_error_lst = list(my_reg_error.values())\n",
    "er_df[\"naive\"] = naive\n",
    "er_df[\"my_reg\"] = my_reg_error_lst"
   ]
  },
  {
   "cell_type": "code",
   "execution_count": null,
   "id": "3a563d47",
   "metadata": {},
   "outputs": [],
   "source": []
  },
  {
   "cell_type": "code",
   "execution_count": null,
   "id": "7c184ffa",
   "metadata": {},
   "outputs": [],
   "source": [
    "# дял каждого ряда определяем наилучший алгоритм\n",
    "\n",
    "my_better = er_df[(er_df[\"my_reg\"]<er_df[\"naive\"])&(er_df[\"my_reg\"]<er_df[\"error\"])].index\n",
    "\n",
    "naive_better=er_df[(er_df[\"naive\"]<er_df[\"my_reg\"])&(er_df[\"naive\"]<er_df[\"error\"])].index\n",
    "\n",
    "error_better = er_df[(er_df[\"error\"]<er_df[\"my_reg\"])&(er_df[\"error\"]<er_df[\"naive\"])].index"
   ]
  },
  {
   "cell_type": "code",
   "execution_count": null,
   "id": "61b7c108",
   "metadata": {},
   "outputs": [],
   "source": [
    "#my_better\n",
    "for i in my_better:\n",
    "    inds=sub[sub.Id.str.startswith(index_all[i])].index\n",
    "    sub.loc[inds,\"Expected\"]=my_reg_predict[i]"
   ]
  },
  {
   "cell_type": "code",
   "execution_count": null,
   "id": "907065af",
   "metadata": {},
   "outputs": [],
   "source": [
    "#error_better\n",
    "for i in error_better:\n",
    "    inds=sub[sub.Id.str.startswith(index_all[i])].index\n",
    "    sub.loc[inds,\"Expected\"]=autoreg_preds[i]"
   ]
  },
  {
   "cell_type": "code",
   "execution_count": null,
   "id": "3971c3dd",
   "metadata": {},
   "outputs": [],
   "source": []
  },
  {
   "cell_type": "code",
   "execution_count": null,
   "id": "6f2ebaeb",
   "metadata": {},
   "outputs": [],
   "source": [
    "sub.to_csv(\"submissionKaggle.csv\",index=0)"
   ]
  },
  {
   "cell_type": "code",
   "execution_count": null,
   "id": "872bba54",
   "metadata": {},
   "outputs": [],
   "source": []
  },
  {
   "cell_type": "code",
   "execution_count": null,
   "id": "5a96b7e8",
   "metadata": {},
   "outputs": [],
   "source": []
  },
  {
   "cell_type": "code",
   "execution_count": null,
   "id": "8512a984",
   "metadata": {},
   "outputs": [],
   "source": []
  }
 ],
 "metadata": {
  "kernelspec": {
   "display_name": "Python 3 (ipykernel)",
   "language": "python",
   "name": "python3"
  },
  "language_info": {
   "codemirror_mode": {
    "name": "ipython",
    "version": 3
   },
   "file_extension": ".py",
   "mimetype": "text/x-python",
   "name": "python",
   "nbconvert_exporter": "python",
   "pygments_lexer": "ipython3",
   "version": "3.10.9"
  }
 },
 "nbformat": 4,
 "nbformat_minor": 5
}
